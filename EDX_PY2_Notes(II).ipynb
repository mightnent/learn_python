{
  "nbformat": 4,
  "nbformat_minor": 0,
  "metadata": {
    "colab": {
      "name": "EDX_PY2_Notes(II).ipynb",
      "version": "0.3.2",
      "provenance": [],
      "include_colab_link": true
    },
    "kernelspec": {
      "name": "python3",
      "display_name": "Python 3"
    }
  },
  "cells": [
    {
      "cell_type": "markdown",
      "metadata": {
        "id": "view-in-github",
        "colab_type": "text"
      },
      "source": [
        "<a href=\"https://colab.research.google.com/github/mightnent/learn_python/blob/MITx-6.00.1x/EDX_PY2_Notes(II).ipynb\" target=\"_parent\"><img src=\"https://colab.research.google.com/assets/colab-badge.svg\" alt=\"Open In Colab\"/></a>"
      ]
    },
    {
      "cell_type": "markdown",
      "metadata": {
        "id": "Tbsc457hvgHd",
        "colab_type": "text"
      },
      "source": [
        "**Abstraction**\n",
        "\n",
        "Do it once and you need not care about the details anymore. Just need to know how to use it\n",
        "\n",
        "**Decomposition**\n",
        "\n",
        "Different pieces of devices/functions come together to give rise to an end goal. \n",
        "\n",
        "In programming, we divide code into modules. Modules could be functions or classes"
      ]
    },
    {
      "cell_type": "markdown",
      "metadata": {
        "id": "6gdVR0n5yfFv",
        "colab_type": "text"
      },
      "source": [
        "When a function is called/invoked:\n",
        "\n",
        "a new scope/frame/env is created.\n",
        "\n",
        "scope is the mapping of names to obj"
      ]
    },
    {
      "cell_type": "markdown",
      "metadata": {
        "id": "PZJS0_aSy13c",
        "colab_type": "text"
      },
      "source": [
        "*Note* :\n",
        "\n",
        "if no **return** statement in function, will result in 'None' type return"
      ]
    },
    {
      "cell_type": "markdown",
      "metadata": {
        "id": "S2cueOuC3Ee3",
        "colab_type": "text"
      },
      "source": [
        "**Scope** : extremely impt concept. \n",
        "\n",
        "A function cannot modify a global variable that is outside of its scope."
      ]
    },
    {
      "cell_type": "markdown",
      "metadata": {
        "id": "5jMeAaMN79MA",
        "colab_type": "text"
      },
      "source": [
        "<br>"
      ]
    },
    {
      "cell_type": "code",
      "metadata": {
        "id": "pj1duyOLvB9V",
        "colab_type": "code",
        "colab": {
          "base_uri": "https://localhost:8080/",
          "height": 34
        },
        "outputId": "5804f0fe-6c0a-4408-d458-3926141b6288"
      },
      "source": [
        "#play around with functions\n",
        "def a(x, y, z):\n",
        "     if x:\n",
        "         return y\n",
        "     else:\n",
        "         return z\n",
        "\n",
        "def b(q, r):\n",
        "    return a(q>r, q, r)\n",
        "\n",
        "##################\n",
        "#be very careful when you write#\n",
        "a(True,a,b)\n",
        "\n",
        "#This is returning function a or b, not char 'a' or 'b'. "
      ],
      "execution_count": 5,
      "outputs": [
        {
          "output_type": "execute_result",
          "data": {
            "text/plain": [
              "<function __main__.a>"
            ]
          },
          "metadata": {
            "tags": []
          },
          "execution_count": 5
        }
      ]
    },
    {
      "cell_type": "code",
      "metadata": {
        "id": "ekeI-Z2M5UNR",
        "colab_type": "code",
        "colab": {
          "base_uri": "https://localhost:8080/",
          "height": 34
        },
        "outputId": "a08b8d03-9746-4c70-97d7-522dede07a7f"
      },
      "source": [
        ">>> a = 10\n",
        ">>> def f(x):\n",
        "      return x + a\n",
        ">>> a = 3\n",
        ">>> f(1)"
      ],
      "execution_count": 6,
      "outputs": [
        {
          "output_type": "execute_result",
          "data": {
            "text/plain": [
              "4"
            ]
          },
          "metadata": {
            "tags": []
          },
          "execution_count": 6
        }
      ]
    },
    {
      "cell_type": "markdown",
      "metadata": {
        "id": "f-KegkVH8Afy",
        "colab_type": "text"
      },
      "source": [
        "<br>"
      ]
    },
    {
      "cell_type": "markdown",
      "metadata": {
        "id": "eiuIeqlK7zK6",
        "colab_type": "text"
      },
      "source": [
        "**keyword args & default values**"
      ]
    },
    {
      "cell_type": "code",
      "metadata": {
        "id": "LmgOGAwn687r",
        "colab_type": "code",
        "colab": {
          "base_uri": "https://localhost:8080/",
          "height": 34
        },
        "outputId": "6523524f-7c02-4dca-d3fc-14ed692e84e0"
      },
      "source": [
        "#my sad life\n",
        "def couple(name1,name2,inLove=True):\n",
        "  if inLove:\n",
        "    return (name1 + \" <3 \" + name2)\n",
        "    \n",
        "  else:\n",
        "    return False\n",
        "  \n",
        "couple(\"sn\",\"wl\",False)"
      ],
      "execution_count": 16,
      "outputs": [
        {
          "output_type": "execute_result",
          "data": {
            "text/plain": [
              "False"
            ]
          },
          "metadata": {
            "tags": []
          },
          "execution_count": 16
        }
      ]
    },
    {
      "cell_type": "markdown",
      "metadata": {
        "id": "w2mNMzlz-5iI",
        "colab_type": "text"
      },
      "source": [
        "More scope exercise:\n",
        "\n",
        "Don't be tricked. One function can only return 1 thing"
      ]
    },
    {
      "cell_type": "code",
      "metadata": {
        "id": "s0wnQ5eq8z9V",
        "colab_type": "code",
        "colab": {
          "base_uri": "https://localhost:8080/",
          "height": 34
        },
        "outputId": "40d06363-a621-4f29-9448-5063df4193bf"
      },
      "source": [
        "def foo(x, y = 5):\n",
        "   def bar(x):\n",
        "      return x + 1\n",
        "   return bar(y * 2)\n",
        "          \n",
        "foo(3)"
      ],
      "execution_count": 17,
      "outputs": [
        {
          "output_type": "execute_result",
          "data": {
            "text/plain": [
              "11"
            ]
          },
          "metadata": {
            "tags": []
          },
          "execution_count": 17
        }
      ]
    },
    {
      "cell_type": "code",
      "metadata": {
        "id": "n5dyXC8m-m7e",
        "colab_type": "code",
        "colab": {}
      },
      "source": [
        ""
      ],
      "execution_count": 0,
      "outputs": []
    }
  ]
}
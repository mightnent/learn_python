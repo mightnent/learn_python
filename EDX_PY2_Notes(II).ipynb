{
  "nbformat": 4,
  "nbformat_minor": 0,
  "metadata": {
    "colab": {
      "name": "EDX_PY2_Notes(II).ipynb",
      "version": "0.3.2",
      "provenance": [],
      "collapsed_sections": [],
      "include_colab_link": true
    },
    "kernelspec": {
      "name": "python3",
      "display_name": "Python 3"
    }
  },
  "cells": [
    {
      "cell_type": "markdown",
      "metadata": {
        "id": "view-in-github",
        "colab_type": "text"
      },
      "source": [
        "<a href=\"https://colab.research.google.com/github/mightnent/learn_python/blob/MITx-6.00.1x/EDX_PY2_Notes(II).ipynb\" target=\"_parent\"><img src=\"https://colab.research.google.com/assets/colab-badge.svg\" alt=\"Open In Colab\"/></a>"
      ]
    },
    {
      "cell_type": "markdown",
      "metadata": {
        "id": "OKVek3c0_NJm",
        "colab_type": "text"
      },
      "source": [
        "# Functions"
      ]
    },
    {
      "cell_type": "markdown",
      "metadata": {
        "id": "Tbsc457hvgHd",
        "colab_type": "text"
      },
      "source": [
        "**Abstraction**\n",
        "\n",
        "Do it once and you need not care about the details anymore. Just need to know how to use it\n",
        "\n",
        "**Decomposition**\n",
        "\n",
        "Different pieces of devices/functions come together to give rise to an end goal. \n",
        "\n",
        "In programming, we divide code into modules. Modules could be functions or classes"
      ]
    },
    {
      "cell_type": "markdown",
      "metadata": {
        "id": "6gdVR0n5yfFv",
        "colab_type": "text"
      },
      "source": [
        "When a function is called/invoked:\n",
        "\n",
        "a new scope/frame/env is created.\n",
        "\n",
        "scope is the mapping of names to obj"
      ]
    },
    {
      "cell_type": "markdown",
      "metadata": {
        "id": "PZJS0_aSy13c",
        "colab_type": "text"
      },
      "source": [
        "*Note* :\n",
        "\n",
        "if no **return** statement in function, will result in 'None' type return"
      ]
    },
    {
      "cell_type": "markdown",
      "metadata": {
        "id": "S2cueOuC3Ee3",
        "colab_type": "text"
      },
      "source": [
        "**Scope** : extremely impt concept. \n",
        "\n",
        "A function cannot modify a global variable that is outside of its scope."
      ]
    },
    {
      "cell_type": "markdown",
      "metadata": {
        "id": "5jMeAaMN79MA",
        "colab_type": "text"
      },
      "source": [
        "<br>"
      ]
    },
    {
      "cell_type": "code",
      "metadata": {
        "id": "pj1duyOLvB9V",
        "colab_type": "code",
        "outputId": "5804f0fe-6c0a-4408-d458-3926141b6288",
        "colab": {
          "base_uri": "https://localhost:8080/",
          "height": 34
        }
      },
      "source": [
        "#play around with functions\n",
        "def a(x, y, z):\n",
        "     if x:\n",
        "         return y\n",
        "     else:\n",
        "         return z\n",
        "\n",
        "def b(q, r):\n",
        "    return a(q>r, q, r)\n",
        "\n",
        "##################\n",
        "#be very careful when you write#\n",
        "a(True,a,b)\n",
        "\n",
        "#This is returning function a or b, not char 'a' or 'b'. "
      ],
      "execution_count": 0,
      "outputs": [
        {
          "output_type": "execute_result",
          "data": {
            "text/plain": [
              "<function __main__.a>"
            ]
          },
          "metadata": {
            "tags": []
          },
          "execution_count": 5
        }
      ]
    },
    {
      "cell_type": "code",
      "metadata": {
        "id": "ekeI-Z2M5UNR",
        "colab_type": "code",
        "outputId": "a08b8d03-9746-4c70-97d7-522dede07a7f",
        "colab": {
          "base_uri": "https://localhost:8080/",
          "height": 34
        }
      },
      "source": [
        ">>> a = 10\n",
        ">>> def f(x):\n",
        "      return x + a\n",
        ">>> a = 3\n",
        ">>> f(1)"
      ],
      "execution_count": 0,
      "outputs": [
        {
          "output_type": "execute_result",
          "data": {
            "text/plain": [
              "4"
            ]
          },
          "metadata": {
            "tags": []
          },
          "execution_count": 6
        }
      ]
    },
    {
      "cell_type": "markdown",
      "metadata": {
        "id": "f-KegkVH8Afy",
        "colab_type": "text"
      },
      "source": [
        "<br>"
      ]
    },
    {
      "cell_type": "markdown",
      "metadata": {
        "id": "eiuIeqlK7zK6",
        "colab_type": "text"
      },
      "source": [
        "**keyword args & default values**"
      ]
    },
    {
      "cell_type": "code",
      "metadata": {
        "id": "LmgOGAwn687r",
        "colab_type": "code",
        "outputId": "6523524f-7c02-4dca-d3fc-14ed692e84e0",
        "colab": {
          "base_uri": "https://localhost:8080/",
          "height": 34
        }
      },
      "source": [
        "#my sad life\n",
        "def couple(name1,name2,inLove=True):\n",
        "  if inLove:\n",
        "    return (name1 + \" <3 \" + name2)\n",
        "    \n",
        "  else:\n",
        "    return False\n",
        "  \n",
        "couple(\"sn\",\"wl\",False)"
      ],
      "execution_count": 0,
      "outputs": [
        {
          "output_type": "execute_result",
          "data": {
            "text/plain": [
              "False"
            ]
          },
          "metadata": {
            "tags": []
          },
          "execution_count": 16
        }
      ]
    },
    {
      "cell_type": "markdown",
      "metadata": {
        "id": "w2mNMzlz-5iI",
        "colab_type": "text"
      },
      "source": [
        "More scope exercise:\n",
        "\n",
        "Don't be tricked. One function can only return 1 thing"
      ]
    },
    {
      "cell_type": "code",
      "metadata": {
        "id": "s0wnQ5eq8z9V",
        "colab_type": "code",
        "outputId": "40d06363-a621-4f29-9448-5063df4193bf",
        "colab": {
          "base_uri": "https://localhost:8080/",
          "height": 34
        }
      },
      "source": [
        "def foo(x, y = 5):\n",
        "   def bar(x):\n",
        "      return x + 1\n",
        "   return bar(y * 2)\n",
        "          \n",
        "foo(3)"
      ],
      "execution_count": 0,
      "outputs": [
        {
          "output_type": "execute_result",
          "data": {
            "text/plain": [
              "11"
            ]
          },
          "metadata": {
            "tags": []
          },
          "execution_count": 17
        }
      ]
    },
    {
      "cell_type": "code",
      "metadata": {
        "id": "n5dyXC8m-m7e",
        "colab_type": "code",
        "outputId": "45c5ea9b-5292-4b94-8b4d-5fb50fa65e10",
        "colab": {
          "base_uri": "https://localhost:8080/",
          "height": 34
        }
      },
      "source": [
        "#how to use capitalize()\n",
        "str1 = \"ab ab ab\"\n",
        "str1.capitalize()"
      ],
      "execution_count": 0,
      "outputs": [
        {
          "output_type": "execute_result",
          "data": {
            "text/plain": [
              "'Ab ab ab'"
            ]
          },
          "metadata": {
            "tags": []
          },
          "execution_count": 1
        }
      ]
    },
    {
      "cell_type": "markdown",
      "metadata": {
        "id": "xGwrPpcP--b6",
        "colab_type": "text"
      },
      "source": [
        "<br>"
      ]
    },
    {
      "cell_type": "markdown",
      "metadata": {
        "id": "PA3llKCS_FFe",
        "colab_type": "text"
      },
      "source": [
        "# Recurssion"
      ]
    },
    {
      "cell_type": "markdown",
      "metadata": {
        "id": "fL89o1QTA_ri",
        "colab_type": "text"
      },
      "source": [
        "Basically calling the function itself in the function definition"
      ]
    },
    {
      "cell_type": "code",
      "metadata": {
        "id": "pC1SwHJt-9G5",
        "colab_type": "code",
        "outputId": "c1466a0d-3037-4133-8882-18bf0d84fd4b",
        "colab": {
          "base_uri": "https://localhost:8080/",
          "height": 34
        }
      },
      "source": [
        "#iteration as though previously on factorial\n",
        "def fact(n):\n",
        "  result = 1\n",
        "  for i in range(1,n+1):\n",
        "    result *= i\n",
        "  return result\n",
        "\n",
        "print(fact(3))"
      ],
      "execution_count": 0,
      "outputs": [
        {
          "output_type": "stream",
          "text": [
            "6\n"
          ],
          "name": "stdout"
        }
      ]
    },
    {
      "cell_type": "code",
      "metadata": {
        "id": "Ph-24oHeBc68",
        "colab_type": "code",
        "outputId": "3fcec20c-2f6f-4993-e70f-7c26c373382d",
        "colab": {
          "base_uri": "https://localhost:8080/",
          "height": 34
        }
      },
      "source": [
        "#using recursion can cut the number of lines\n",
        "\n",
        "def fact_re(n):\n",
        "  if n==1:\n",
        "    return 1\n",
        "  else:\n",
        "    return n*fact_re(n-1)\n",
        "\n",
        "print(fact_re(3))"
      ],
      "execution_count": 0,
      "outputs": [
        {
          "output_type": "stream",
          "text": [
            "6\n"
          ],
          "name": "stdout"
        }
      ]
    },
    {
      "cell_type": "code",
      "metadata": {
        "id": "E1mRh-lBBrW1",
        "colab_type": "code",
        "outputId": "7d8ee7e1-32a4-4a87-8b61-c8d799cc7677",
        "colab": {
          "base_uri": "https://localhost:8080/",
          "height": 34
        }
      },
      "source": [
        "# recursion example for exponentials\n",
        "\n",
        "def exp_power(base,exp):\n",
        "  \"\"\"\n",
        "  basically times base exp number of times\n",
        "  \"\"\"\n",
        "  if exp ==1 :\n",
        "    return base\n",
        "  elif exp == 0:\n",
        "    return 1\n",
        "  else:\n",
        "    return base*exp_power(base,exp-1)\n",
        "  \n",
        "exp_power(3,3)"
      ],
      "execution_count": 0,
      "outputs": [
        {
          "output_type": "execute_result",
          "data": {
            "text/plain": [
              "27"
            ]
          },
          "metadata": {
            "tags": []
          },
          "execution_count": 1
        }
      ]
    },
    {
      "cell_type": "markdown",
      "metadata": {
        "id": "WZgNrW033MOF",
        "colab_type": "text"
      },
      "source": [
        "Recursion is essentially mathematical induction.\n",
        "\n",
        "you are saying that the base case is true => if exp ==1: return base\n",
        "\n",
        "this is to say the functions returns correct value for values less than exp.\n",
        "\n",
        "so if you take a correct return and times base case, then the logic follows that the function will return correctly for exp as well"
      ]
    },
    {
      "cell_type": "code",
      "metadata": {
        "id": "PALCiF3Z0pH_",
        "colab_type": "code",
        "outputId": "e465a332-8b92-41ad-fce4-d4a1338b51cd",
        "colab": {
          "base_uri": "https://localhost:8080/",
          "height": 298
        }
      },
      "source": [
        "#demo tower of hanoi\n",
        "def printMove(fr,to):\n",
        "  print(\"move from \" + str(fr) + \" to \" + str(to))\n",
        "\n",
        "def tower(n,fr,to,spare):\n",
        "  if n==1:\n",
        "    return printMove(fr,to)\n",
        "  else:\n",
        "    #dont be confused by the var name\n",
        "    #its always fr : to : spare sequence\n",
        "    tower(n-1,fr,spare,to)\n",
        "    #n==1 here, that's why printed\n",
        "    tower(1,fr,to,spare)\n",
        "    #but this also will be executed, so n != 1 anymore\n",
        "    tower(n-1,spare,to,fr)\n",
        " \n",
        "print(tower(4,\"A\",\"B\",\"c\"))"
      ],
      "execution_count": 0,
      "outputs": [
        {
          "output_type": "stream",
          "text": [
            "move from A to c\n",
            "move from A to B\n",
            "move from c to B\n",
            "move from A to c\n",
            "move from B to A\n",
            "move from B to c\n",
            "move from A to c\n",
            "move from A to B\n",
            "move from c to B\n",
            "move from c to A\n",
            "move from B to A\n",
            "move from c to B\n",
            "move from A to c\n",
            "move from A to B\n",
            "move from c to B\n",
            "None\n"
          ],
          "name": "stdout"
        }
      ]
    },
    {
      "cell_type": "markdown",
      "metadata": {
        "id": "KOJZiSkbu0P7",
        "colab_type": "text"
      },
      "source": [
        "Another example for interation to recursion.\n",
        "\n",
        "This is about Greatest Common Multiple\n",
        "\n",
        "For the recursive case, think : gcd(a, b) is the same as gcd(b, a % b)"
      ]
    },
    {
      "cell_type": "code",
      "metadata": {
        "id": "-R1moudR64bk",
        "colab_type": "code",
        "outputId": "0509b82c-e3d1-4277-dc84-4a8df171ed0a",
        "colab": {
          "base_uri": "https://localhost:8080/",
          "height": 34
        }
      },
      "source": [
        "def gcdIter(a, b):\n",
        "    c=0\n",
        "    d=0\n",
        "    if a<b:\n",
        "        c=a\n",
        "        d=b\n",
        "    else:\n",
        "        d=a \n",
        "        c=b\n",
        "    if d%c==0:\n",
        "        return c\n",
        "    else:\n",
        "        for i in range(1,c):\n",
        "            if d%(c-i)==0 and c%(c-i)==0:\n",
        "                return c-i\n",
        "                break\n",
        "\n",
        "print(gcdIter(2,12))"
      ],
      "execution_count": 0,
      "outputs": [
        {
          "output_type": "stream",
          "text": [
            "2\n"
          ],
          "name": "stdout"
        }
      ]
    },
    {
      "cell_type": "code",
      "metadata": {
        "id": "bEjnog_NC9XS",
        "colab_type": "code",
        "outputId": "7700b187-dc51-4a4a-e251-59474e174a89",
        "colab": {
          "base_uri": "https://localhost:8080/",
          "height": 34
        }
      },
      "source": [
        "def gcdRecur(a, b):\n",
        "    if b==0:\n",
        "        return a\n",
        "    else:\n",
        "        return gcdRecur(b,a%b)\n",
        "\n",
        "print(gcdRecur(24,12))"
      ],
      "execution_count": 0,
      "outputs": [
        {
          "output_type": "stream",
          "text": [
            "12\n"
          ],
          "name": "stdout"
        }
      ]
    },
    {
      "cell_type": "markdown",
      "metadata": {
        "id": "ON7270UxzuDA",
        "colab_type": "text"
      },
      "source": [
        "**Fibonacci**"
      ]
    },
    {
      "cell_type": "code",
      "metadata": {
        "id": "NZDhILjuzwMi",
        "colab_type": "code",
        "outputId": "8fa8bdaa-2a16-47ba-8505-f33424dfb4c3",
        "colab": {
          "base_uri": "https://localhost:8080/",
          "height": 34
        }
      },
      "source": [
        "#not sum\n",
        "def fib(x):\n",
        "  if x==0 or x==1:\n",
        "    return 1\n",
        "  else:\n",
        "    return fib(x-1)+fib(x-2)\n",
        "  \n",
        "print(fib(3))"
      ],
      "execution_count": 0,
      "outputs": [
        {
          "output_type": "stream",
          "text": [
            "3\n"
          ],
          "name": "stdout"
        }
      ]
    },
    {
      "cell_type": "markdown",
      "metadata": {
        "id": "mm_WUsAErm4_",
        "colab_type": "text"
      },
      "source": [
        "Using recurssion on strings"
      ]
    },
    {
      "cell_type": "code",
      "metadata": {
        "id": "clvgw5lmz-Fh",
        "colab_type": "code",
        "outputId": "fce0aafd-4e2e-4954-c9af-d1f97510612a",
        "colab": {
          "base_uri": "https://localhost:8080/",
          "height": 34
        }
      },
      "source": [
        "def isPalindrome(s):\n",
        "  def toChar(s):\n",
        "    s = s.lower()\n",
        "    ans = ''\n",
        "    for c in s:\n",
        "      if c in 'abcdefghijklmnopqrstuvwxyz':\n",
        "        ans = ans + c\n",
        "    return ans\n",
        "  def isPal(s):\n",
        "    if len(s) <= 1:\n",
        "      return True\n",
        "    else:\n",
        "      return s[0]==s[-1] and isPal(s[1:-1])\n",
        "  return(isPal(toChar(s)))\n",
        "\n",
        "print(isPalindrome(\"abcba\"))"
      ],
      "execution_count": 0,
      "outputs": [
        {
          "output_type": "stream",
          "text": [
            "True\n"
          ],
          "name": "stdout"
        }
      ]
    },
    {
      "cell_type": "code",
      "metadata": {
        "id": "6NLQvnjstVgV",
        "colab_type": "code",
        "colab": {}
      },
      "source": [
        "#recursion with bisection search on a alphabetical str. \n",
        "def isIn(char, aStr):\n",
        "    mid = len(aStr)//2\n",
        "    s = aStr\n",
        "    #this is very clever, takes care of the case of empty str as well as 1 char str\n",
        "    if len(aStr)<=1:\n",
        "        return aStr == char\n",
        "    if s[mid] == char:\n",
        "        return True\n",
        "    else:\n",
        "        if s[mid]<char:\n",
        "            return isIn(char,str(s[mid:]))\n",
        "        else:\n",
        "            return isIn(char,str(s[0:mid]))\n"
      ],
      "execution_count": 0,
      "outputs": []
    },
    {
      "cell_type": "markdown",
      "metadata": {
        "id": "A8lyprtbqSyj",
        "colab_type": "text"
      },
      "source": [
        "<br>"
      ]
    },
    {
      "cell_type": "markdown",
      "metadata": {
        "id": "cm4y-BrpqUaK",
        "colab_type": "text"
      },
      "source": [
        "# Importing"
      ]
    },
    {
      "cell_type": "markdown",
      "metadata": {
        "id": "16uXcmIsqeUy",
        "colab_type": "text"
      },
      "source": [
        "Say you have a file known as rectArea.py"
      ]
    },
    {
      "cell_type": "code",
      "metadata": {
        "id": "-DeUOxm3kqbl",
        "colab_type": "code",
        "colab": {}
      },
      "source": [
        "#rectArea.py\n",
        "\n",
        "def rectArea(length,width):\n",
        "  area = length*width\n",
        "  return area"
      ],
      "execution_count": 0,
      "outputs": []
    },
    {
      "cell_type": "markdown",
      "metadata": {
        "id": "CX6vp4bFrByT",
        "colab_type": "text"
      },
      "source": [
        "You then want to use the above to find volume in another file, known as volume.py"
      ]
    },
    {
      "cell_type": "code",
      "metadata": {
        "id": "sh5KDA33rHSb",
        "colab_type": "code",
        "colab": {}
      },
      "source": [
        "#volume.py\n",
        "\n",
        "from rectArea import *\n",
        "\n",
        "height = 8\n",
        "volume = rectArea(2,3)*height"
      ],
      "execution_count": 0,
      "outputs": []
    },
    {
      "cell_type": "markdown",
      "metadata": {
        "id": "0MWP0kj90hsE",
        "colab_type": "text"
      },
      "source": [
        "**Note**:\n",
        "\n",
        "If you define in current scope, it will override the import. "
      ]
    },
    {
      "cell_type": "markdown",
      "metadata": {
        "id": "mcPEjLea0toO",
        "colab_type": "text"
      },
      "source": [
        "<br>"
      ]
    },
    {
      "cell_type": "markdown",
      "metadata": {
        "id": "AXhdrDmgswZq",
        "colab_type": "text"
      },
      "source": [
        "#File System RW"
      ]
    },
    {
      "cell_type": "markdown",
      "metadata": {
        "id": "Mxl5sXbes1_y",
        "colab_type": "text"
      },
      "source": [
        "python gives us the ability to write into files independent of OS.\n",
        "\n",
        "A simple google search on writing and reading files using python will give you more permutation. Below is an example."
      ]
    },
    {
      "cell_type": "code",
      "metadata": {
        "id": "fgu-2fQ6svjj",
        "colab_type": "code",
        "colab": {}
      },
      "source": [
        "myFile = open('kids.txt','w')\n",
        "for i in range(2):\n",
        "  name = input(\"name: \")\n",
        "  myFile.write(name + '\\')\n",
        "myFile.close()"
      ],
      "execution_count": 0,
      "outputs": []
    },
    {
      "cell_type": "markdown",
      "metadata": {
        "id": "gWIqWtj2XuyO",
        "colab_type": "text"
      },
      "source": [
        "<br>"
      ]
    },
    {
      "cell_type": "markdown",
      "metadata": {
        "id": "U1FQz_0EXxax",
        "colab_type": "text"
      },
      "source": [
        "# Questions"
      ]
    },
    {
      "cell_type": "code",
      "metadata": {
        "id": "lXfzIXapXwXm",
        "colab_type": "code",
        "colab": {
          "base_uri": "https://localhost:8080/",
          "height": 34
        },
        "outputId": "6a9da3b2-d17a-4efe-a7d6-548af89ab517"
      },
      "source": [
        "#credit card problem\n",
        "def remainingBalance(b,i,r,n):\n",
        "    newBalance = b*(1-r)*(1+i/12)\n",
        "    if n == 0:\n",
        "        return newBalance\n",
        "    else:\n",
        "        n-= 1\n",
        "        return remainingBalance(newBalance,i,r,n)\n",
        "\n",
        "#with an original debt of 42, how much would you be left to pay after 1 year \n",
        "#assuming no new debt and only interest and pay back min % each month\n",
        "print(remainingBalance(b=42,i=0.2,r=0.04,n=11))"
      ],
      "execution_count": 2,
      "outputs": [
        {
          "output_type": "stream",
          "text": [
            "31.379578260339372\n"
          ],
          "name": "stdout"
        }
      ]
    },
    {
      "cell_type": "code",
      "metadata": {
        "id": "hlfjqZHLyzXF",
        "colab_type": "code",
        "colab": {}
      },
      "source": [
        ""
      ],
      "execution_count": 0,
      "outputs": []
    }
  ]
}
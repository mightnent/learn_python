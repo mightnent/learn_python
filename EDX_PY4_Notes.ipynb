{
  "nbformat": 4,
  "nbformat_minor": 0,
  "metadata": {
    "colab": {
      "name": "EDX_PY4_Notes.ipynb",
      "provenance": [],
      "collapsed_sections": [],
      "include_colab_link": true
    },
    "kernelspec": {
      "name": "python3",
      "display_name": "Python 3"
    }
  },
  "cells": [
    {
      "cell_type": "markdown",
      "metadata": {
        "id": "view-in-github",
        "colab_type": "text"
      },
      "source": [
        "<a href=\"https://colab.research.google.com/github/mightnent/learn_python/blob/MITx-6.00.1x/EDX_PY4_Notes.ipynb\" target=\"_parent\"><img src=\"https://colab.research.google.com/assets/colab-badge.svg\" alt=\"Open In Colab\"/></a>"
      ]
    },
    {
      "cell_type": "markdown",
      "metadata": {
        "id": "u6hr190M27bN",
        "colab_type": "text"
      },
      "source": [
        "# Debugging and testing\n",
        "\n",
        "Employ Defensive Programming. \n",
        "*   write specifications for code (doc strings)\n",
        "*   modularize the code\n",
        "*   Check conditions on inputs/outputs\n",
        "\n",
        "Testing\n",
        "*   compare input to output according to doc string\n",
        "*   purposely try to break things\n",
        "\n",
        "Debuggin\n",
        "*   Study the why\n",
        "\n",
        "\n",
        "\n",
        "\n",
        "\n",
        "\n"
      ]
    },
    {
      "cell_type": "markdown",
      "metadata": {
        "id": "2gu11bNH4rST",
        "colab_type": "text"
      },
      "source": [
        "**Debugging**\n",
        "\n",
        "Unit testing: test each function\n",
        "\n",
        "Regression testing: retest the function after correcting a bug\n",
        "\n",
        "Integration testing: do only after you know every unit works"
      ]
    },
    {
      "cell_type": "markdown",
      "metadata": {
        "id": "LHLFKUqE-4Ne",
        "colab_type": "text"
      },
      "source": [
        "**Different types of bugs**\n",
        "\n",
        "\n",
        "\n",
        "*   Overt bugs: obvious, when code crash or go into infinite loop\n",
        "*   Covert bugs: returns an incorrect value\n",
        "*   Persitent bugs: always there when code execute\n",
        "*   Intermittent bugs: sometimes happen, even with same input\n",
        "\n"
      ]
    },
    {
      "cell_type": "code",
      "metadata": {
        "id": "fqBwKJFJMHj8",
        "colab_type": "code",
        "colab": {}
      },
      "source": [
        ""
      ],
      "execution_count": 0,
      "outputs": []
    }
  ]
}
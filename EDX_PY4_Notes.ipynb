{
  "nbformat": 4,
  "nbformat_minor": 0,
  "metadata": {
    "colab": {
      "name": "EDX_PY4_Notes.ipynb",
      "provenance": [],
      "collapsed_sections": [],
      "include_colab_link": true
    },
    "kernelspec": {
      "name": "python3",
      "display_name": "Python 3"
    }
  },
  "cells": [
    {
      "cell_type": "markdown",
      "metadata": {
        "id": "view-in-github",
        "colab_type": "text"
      },
      "source": [
        "<a href=\"https://colab.research.google.com/github/mightnent/learn_python/blob/MITx-6.00.1x/EDX_PY4_Notes.ipynb\" target=\"_parent\"><img src=\"https://colab.research.google.com/assets/colab-badge.svg\" alt=\"Open In Colab\"/></a>"
      ]
    },
    {
      "cell_type": "markdown",
      "metadata": {
        "id": "u6hr190M27bN",
        "colab_type": "text"
      },
      "source": [
        "# Debugging and testing\n",
        "\n",
        "Employ Defensive Programming. \n",
        "*   write specifications for code (doc strings)\n",
        "*   modularize the code\n",
        "*   Check conditions on inputs/outputs\n",
        "\n",
        "Testing\n",
        "*   compare input to output according to doc string\n",
        "*   purposely try to break things\n",
        "\n",
        "Debuggin\n",
        "*   Study the why\n",
        "\n",
        "\n",
        "\n",
        "\n",
        "\n",
        "\n"
      ]
    },
    {
      "cell_type": "markdown",
      "metadata": {
        "id": "2gu11bNH4rST",
        "colab_type": "text"
      },
      "source": [
        "**Debugging**\n",
        "\n",
        "Unit testing: test each function\n",
        "\n",
        "Regression testing: retest the function after correcting a bug\n",
        "\n",
        "Integration testing: do only after you know every unit works"
      ]
    },
    {
      "cell_type": "markdown",
      "metadata": {
        "id": "LHLFKUqE-4Ne",
        "colab_type": "text"
      },
      "source": [
        "**Different types of bugs**\n",
        "\n",
        "\n",
        "\n",
        "*   Overt bugs: obvious, when code crash or go into infinite loop\n",
        "*   Covert bugs: returns an incorrect value\n",
        "*   Persitent bugs: always there when code execute\n",
        "*   Intermittent bugs: sometimes happen, even with same input\n",
        "\n"
      ]
    },
    {
      "cell_type": "markdown",
      "metadata": {
        "id": "926LHsAqU71j",
        "colab_type": "text"
      },
      "source": [
        "# Exceptions\n",
        "\n",
        "Using exceptions to catch bugs"
      ]
    },
    {
      "cell_type": "code",
      "metadata": {
        "id": "fqBwKJFJMHj8",
        "colab_type": "code",
        "outputId": "f856fcef-75f5-475d-a0e7-25960b99ed16",
        "colab": {
          "base_uri": "https://localhost:8080/",
          "height": 69
        }
      },
      "source": [
        "#eg\n",
        "try:\n",
        "  a = int(input(\"fist number: \"))\n",
        "  b = int(input(\"second number: \"))\n",
        "  divide = a/b\n",
        "  print(\"divide a with b: \",divide)\n",
        "except ValueError:\n",
        "  print(\"could not convert to int\")\n",
        "  print(\"exit with 1\")\n",
        "except ZeroDivisionError:\n",
        "  print(\"could not divide by 0\")\n",
        "  print(\"exit with 1\")\n",
        "except:\n",
        "  print(\"unknown error\")\n",
        "  print(\"exit with 1\")"
      ],
      "execution_count": 0,
      "outputs": [
        {
          "output_type": "stream",
          "text": [
            "fist number: a\n",
            "could not convert to int\n",
            "exit with 1\n"
          ],
          "name": "stdout"
        }
      ]
    },
    {
      "cell_type": "markdown",
      "metadata": {
        "id": "5OZIHLkAY301",
        "colab_type": "text"
      },
      "source": [
        "try is very much like if. However it's meant for bugs."
      ]
    },
    {
      "cell_type": "code",
      "metadata": {
        "id": "-Bm-gtnCXQGY",
        "colab_type": "code",
        "colab": {}
      },
      "source": [
        "# for example\n",
        "try:\n",
        "  #check logic for an error\n",
        "except:\n",
        "  #some error code\n",
        "else:\n",
        "  #run what is intended for the code without error\n",
        "finally:\n",
        "  #do this last to clean up program. Usually is close sth"
      ],
      "execution_count": 0,
      "outputs": []
    },
    {
      "cell_type": "markdown",
      "metadata": {
        "id": "IOIBxD4jaPQ3",
        "colab_type": "text"
      },
      "source": [
        "Why use this kind of control when you can use if else? \n",
        "\n",
        "Because sometimes error is not fatal. You still want code to run but just give a different logic."
      ]
    },
    {
      "cell_type": "code",
      "metadata": {
        "id": "RKeFO2SrZhCU",
        "colab_type": "code",
        "colab": {}
      },
      "source": [
        "#example\n",
        "data = [['ali',3],['measy',10],['holita',],['markus',11],['picca',8]]\n"
      ],
      "execution_count": 0,
      "outputs": []
    },
    {
      "cell_type": "code",
      "metadata": {
        "id": "JyQSE2A5awUQ",
        "colab_type": "code",
        "colab": {}
      },
      "source": [
        "gradeData=[]\n",
        "if data:\n",
        "  for student in data:\n",
        "    try:\n",
        "      gradeData.append([student[0:1],[student[1]]])\n",
        "    except IndexError:\n",
        "      gradeData.append([student[0:1],[]])"
      ],
      "execution_count": 0,
      "outputs": []
    },
    {
      "cell_type": "code",
      "metadata": {
        "id": "6TBVbVuXefev",
        "colab_type": "code",
        "outputId": "839a54a1-56e4-454b-9f6f-f66b4243efa8",
        "colab": {
          "base_uri": "https://localhost:8080/",
          "height": 105
        }
      },
      "source": [
        "gradeData"
      ],
      "execution_count": 0,
      "outputs": [
        {
          "output_type": "execute_result",
          "data": {
            "text/plain": [
              "[[['ali'], [3]],\n",
              " [['measy'], [10]],\n",
              " [['holita'], []],\n",
              " [['markus'], [11]],\n",
              " [['picca'], [8]]]"
            ]
          },
          "metadata": {
            "tags": []
          },
          "execution_count": 18
        }
      ]
    },
    {
      "cell_type": "markdown",
      "metadata": {
        "id": "Wul7kuHEqE6i",
        "colab_type": "text"
      },
      "source": [
        "Hence, using exceptions can control flow of errors"
      ]
    },
    {
      "cell_type": "code",
      "metadata": {
        "id": "BtTsYsU6ejpm",
        "colab_type": "code",
        "colab": {}
      },
      "source": [
        "#example\n",
        "def ratios(l1,l2):\n",
        "  ratios = []\n",
        "  for i in range(len(l1)):\n",
        "    try:\n",
        "      ratios.append(l1[i]/l2[i])\n",
        "    except ZeroDivisionError:\n",
        "      ratios.append('NaN')\n",
        "    except:\n",
        "      raise ValueError('bad args')\n",
        "  return ratios"
      ],
      "execution_count": 0,
      "outputs": []
    },
    {
      "cell_type": "markdown",
      "metadata": {
        "id": "m5lf0gAkujku",
        "colab_type": "text"
      },
      "source": [
        "You can also return things in exceptions. This way, you avoid getting none back"
      ]
    },
    {
      "cell_type": "code",
      "metadata": {
        "id": "yN-QQmhZqyyC",
        "colab_type": "code",
        "colab": {}
      },
      "source": [
        "#eg\n",
        "def avg(l1):\n",
        "  try:\n",
        "    return sum(l1)/len(l1)\n",
        "  except ZeroDivisionError:\n",
        "    print(\"no grades\")\n",
        "    return 0"
      ],
      "execution_count": 0,
      "outputs": []
    },
    {
      "cell_type": "code",
      "metadata": {
        "id": "GsmxLG8Gq4Nh",
        "colab_type": "code",
        "colab": {}
      },
      "source": [
        "def fancy_divide(numbers, index):\n",
        "    try:\n",
        "        denom = numbers[index]\n",
        "        for i in range(len(numbers)):\n",
        "            numbers[i] /= denom\n",
        "    except IndexError:\n",
        "        fancy_divide(numbers, len(numbers) - 1)\n",
        "    except ZeroDivisionError:\n",
        "        print(\"-2\")\n",
        "    else:\n",
        "        print(\"1\")\n",
        "    finally:\n",
        "        print(\"0\")"
      ],
      "execution_count": 0,
      "outputs": []
    },
    {
      "cell_type": "code",
      "metadata": {
        "id": "1u7axAbYvnU6",
        "colab_type": "code",
        "colab": {
          "base_uri": "https://localhost:8080/",
          "height": 69
        },
        "outputId": "6a8f1cab-3864-412b-dc50-5f0262ada5ec"
      },
      "source": [
        "fancy_divide([0, 2, 4], 4)"
      ],
      "execution_count": 12,
      "outputs": [
        {
          "output_type": "stream",
          "text": [
            "1\n",
            "0\n",
            "0\n"
          ],
          "name": "stdout"
        }
      ]
    },
    {
      "cell_type": "markdown",
      "metadata": {
        "id": "o9umlUlfzmfI",
        "colab_type": "text"
      },
      "source": [
        "The above is tricky. Once a exception is called, else will not be called. If no exceptions, then else will be called"
      ]
    },
    {
      "cell_type": "code",
      "metadata": {
        "id": "eeIV4yulvpOU",
        "colab_type": "code",
        "colab": {}
      },
      "source": [
        "def simple_divide(item, denom):\n",
        "  try:\n",
        "    ans = item / denom\n",
        "  except ZeroDivisionError:\n",
        "    ans = 0\n",
        "  return ans"
      ],
      "execution_count": 0,
      "outputs": []
    },
    {
      "cell_type": "markdown",
      "metadata": {
        "id": "25E0q-Oi1PIc",
        "colab_type": "text"
      },
      "source": [
        "# Assertions"
      ]
    },
    {
      "cell_type": "markdown",
      "metadata": {
        "id": "Ho9wC-zF1VLD",
        "colab_type": "text"
      },
      "source": [
        "They are special type of exception. They dont allow programmer to control flow. Instead, they will stop executing if conditions are not met. Very defensive programming. \n",
        "\n",
        "By stop, I mean exit program, not throw an error and crash"
      ]
    },
    {
      "cell_type": "code",
      "metadata": {
        "id": "pH5YsLLa1Utp",
        "colab_type": "code",
        "colab": {}
      },
      "source": [
        "#eg\n",
        "def avg(l1):\n",
        "  assert not len(l1)==0, \"not enough data\"\n",
        "  return sum(l1)/len(l1)"
      ],
      "execution_count": 0,
      "outputs": []
    }
  ]
}
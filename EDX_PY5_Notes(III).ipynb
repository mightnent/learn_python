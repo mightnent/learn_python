{
  "nbformat": 4,
  "nbformat_minor": 0,
  "metadata": {
    "colab": {
      "name": "EDX_PY5_Notes(III).ipynb",
      "provenance": [],
      "collapsed_sections": [],
      "include_colab_link": true
    },
    "kernelspec": {
      "name": "python3",
      "display_name": "Python 3"
    }
  },
  "cells": [
    {
      "cell_type": "markdown",
      "metadata": {
        "id": "view-in-github",
        "colab_type": "text"
      },
      "source": [
        "<a href=\"https://colab.research.google.com/github/mightnent/learn_python/blob/master/EDX_PY5_Notes(III).ipynb\" target=\"_parent\"><img src=\"https://colab.research.google.com/assets/colab-badge.svg\" alt=\"Open In Colab\"/></a>"
      ]
    },
    {
      "cell_type": "markdown",
      "metadata": {
        "id": "RiSCCRNZH4_5",
        "colab_type": "text"
      },
      "source": [
        "# Using inheritance"
      ]
    },
    {
      "cell_type": "code",
      "metadata": {
        "id": "b-a5OMfJHw2D",
        "colab_type": "code",
        "colab": {}
      },
      "source": [
        "import datetime\n",
        "class Person(object):\n",
        "  def __init__(self,name):\n",
        "    self.name = name\n",
        "    self.birthday = None\n",
        "    self.last_name = name.split(' ')[-1]\n",
        "  def getLastName(self):\n",
        "    return self.last_name\n",
        "  def __lt__(self,other):\n",
        "    if self.last_name == other.last_name:\n",
        "      return self.last_name < other.last_name\n",
        "    return self.last_name < other.last_name\n",
        "  def __str__(self):\n",
        "    return str(self.name)\n",
        "  def setBirthday(self,day,month,year):\n",
        "    self.birthday = datetime.date(year,month,day)\n",
        "  def getAge(self):\n",
        "    if self.birthday == None:\n",
        "      raise ValueError\n",
        "    else:\n",
        "      return (datetime.date.today()-self.birthday).days"
      ],
      "execution_count": 0,
      "outputs": []
    },
    {
      "cell_type": "code",
      "metadata": {
        "id": "hI4pzJp2InF3",
        "colab_type": "code",
        "colab": {}
      },
      "source": [
        "peter_parker = Person('peter parker')"
      ],
      "execution_count": 0,
      "outputs": []
    },
    {
      "cell_type": "code",
      "metadata": {
        "id": "1b5IcZm_Ix6A",
        "colab_type": "code",
        "outputId": "13e7286b-62fb-4a97-d631-f0a0e1aa2e1d",
        "colab": {
          "base_uri": "https://localhost:8080/",
          "height": 34
        }
      },
      "source": [
        "print(peter_parker)"
      ],
      "execution_count": 0,
      "outputs": [
        {
          "output_type": "stream",
          "text": [
            "peter parker\n"
          ],
          "name": "stdout"
        }
      ]
    },
    {
      "cell_type": "code",
      "metadata": {
        "id": "HkLl4cfrIzzT",
        "colab_type": "code",
        "colab": {}
      },
      "source": [
        "peter_parker.setBirthday(14,5,1998)"
      ],
      "execution_count": 0,
      "outputs": []
    },
    {
      "cell_type": "code",
      "metadata": {
        "id": "0UjehhbeKBKw",
        "colab_type": "code",
        "outputId": "7b961862-f14c-42c6-8f02-a67f69ef27a1",
        "colab": {
          "base_uri": "https://localhost:8080/",
          "height": 34
        }
      },
      "source": [
        "peter_parker.getAge()"
      ],
      "execution_count": 0,
      "outputs": [
        {
          "output_type": "execute_result",
          "data": {
            "text/plain": [
              "7825"
            ]
          },
          "metadata": {
            "tags": []
          },
          "execution_count": 26
        }
      ]
    },
    {
      "cell_type": "markdown",
      "metadata": {
        "id": "69MDtCi1dDy4",
        "colab_type": "text"
      },
      "source": [
        "<br>\n"
      ]
    },
    {
      "cell_type": "markdown",
      "metadata": {
        "id": "uBH-IPXvdHX6",
        "colab_type": "text"
      },
      "source": [
        "lets say p1 is a parent class object with \"lt\" method by comparing names\n",
        "p2 is a child class object that uses \"lt\" to compare id\n",
        "\n",
        "p1 < p2 will work \n",
        "but p2 < p1 will not\n",
        "\n",
        "this is because p1 has no id attribute\n"
      ]
    },
    {
      "cell_type": "code",
      "metadata": {
        "id": "jyVeEaFydDW8",
        "colab_type": "code",
        "colab": {}
      },
      "source": [
        "class SUTD(Person):\n",
        "  nextId = 0\n",
        "  def __init__(self,name):\n",
        "    Person.__init__(self,name)\n",
        "    self.Id = SUTD.nextId\n",
        "    SUTD.nextId += 1\n",
        "  def getIdNum(self):\n",
        "    return self.Id\n",
        "  def __lt__(self,other):\n",
        "    return other.Id < self.Id\n",
        "  def speak(self,spoken):\n",
        "    return (self.getLastName()+' '+spoken)"
      ],
      "execution_count": 0,
      "outputs": []
    },
    {
      "cell_type": "code",
      "metadata": {
        "id": "ItutA0S1KHJ1",
        "colab_type": "code",
        "colab": {}
      },
      "source": [
        "X = SUTD('micheal lynch')"
      ],
      "execution_count": 0,
      "outputs": []
    },
    {
      "cell_type": "code",
      "metadata": {
        "id": "1xq-GJps7Nn-",
        "colab_type": "code",
        "outputId": "5b43a7bd-53e2-4c5f-b4c9-fb974701ba79",
        "colab": {
          "base_uri": "https://localhost:8080/",
          "height": 34
        }
      },
      "source": [
        "print(X)"
      ],
      "execution_count": 0,
      "outputs": [
        {
          "output_type": "stream",
          "text": [
            "micheal lynch\n"
          ],
          "name": "stdout"
        }
      ]
    },
    {
      "cell_type": "code",
      "metadata": {
        "id": "8TqIIUtI7T6Q",
        "colab_type": "code",
        "outputId": "8780ddf8-0af4-4262-e790-fbde961fa88d",
        "colab": {
          "base_uri": "https://localhost:8080/",
          "height": 34
        }
      },
      "source": [
        "print(X.getIdNum())"
      ],
      "execution_count": 0,
      "outputs": [
        {
          "output_type": "stream",
          "text": [
            "0\n"
          ],
          "name": "stdout"
        }
      ]
    },
    {
      "cell_type": "code",
      "metadata": {
        "id": "dHnoB7Ag7c4q",
        "colab_type": "code",
        "colab": {}
      },
      "source": [
        "class Student(SUTD):\n",
        "  pass\n",
        "class UG(Student):\n",
        "  def __init__(self,name,class_of):\n",
        "    SUTD.__init__(self,name)\n",
        "    self.class_of = class_of\n",
        "  def get_class(self):\n",
        "    return self.class_of\n",
        "  def speak(self,spoken):\n",
        "    return SUTD.speak(self,\"lmao \" + spoken)\n",
        "class Grads(Student):\n",
        "  pass\n",
        "class Transfer(Student):\n",
        "  pass\n",
        "\n",
        "def isStudent(obj):\n",
        "  return isinstance(obj,Student)"
      ],
      "execution_count": 0,
      "outputs": []
    },
    {
      "cell_type": "code",
      "metadata": {
        "id": "nsHnsqBBEs6A",
        "colab_type": "code",
        "colab": {}
      },
      "source": [
        "mike = UG('mike',class_of=2023) "
      ],
      "execution_count": 0,
      "outputs": []
    },
    {
      "cell_type": "code",
      "metadata": {
        "id": "UOthdwuZE2mj",
        "colab_type": "code",
        "outputId": "b74e3e77-2392-4db8-814c-05998a834224",
        "colab": {
          "base_uri": "https://localhost:8080/",
          "height": 34
        }
      },
      "source": [
        "mike.get_class()"
      ],
      "execution_count": 0,
      "outputs": [
        {
          "output_type": "execute_result",
          "data": {
            "text/plain": [
              "2023"
            ]
          },
          "metadata": {
            "tags": []
          },
          "execution_count": 33
        }
      ]
    },
    {
      "cell_type": "code",
      "metadata": {
        "id": "wQgseEMQE5vE",
        "colab_type": "code",
        "outputId": "ab414b57-e370-4ed9-8662-39f8ba25abc5",
        "colab": {
          "base_uri": "https://localhost:8080/",
          "height": 34
        }
      },
      "source": [
        "isStudent(mike)"
      ],
      "execution_count": 0,
      "outputs": [
        {
          "output_type": "execute_result",
          "data": {
            "text/plain": [
              "True"
            ]
          },
          "metadata": {
            "tags": []
          },
          "execution_count": 34
        }
      ]
    },
    {
      "cell_type": "code",
      "metadata": {
        "id": "2SA1CPnnE8Qh",
        "colab_type": "code",
        "outputId": "f3b931de-311f-41c7-e1f3-d8f36b0352df",
        "colab": {
          "base_uri": "https://localhost:8080/",
          "height": 34
        }
      },
      "source": [
        "print(mike.speak(\"how are you\"))"
      ],
      "execution_count": 0,
      "outputs": [
        {
          "output_type": "stream",
          "text": [
            "mike lmao how are you\n"
          ],
          "name": "stdout"
        }
      ]
    },
    {
      "cell_type": "markdown",
      "metadata": {
        "id": "K5cZd3bLFeki",
        "colab_type": "text"
      },
      "source": [
        "The whole rationale of this is to make the code cleaner. We pull all the sub class under one abstract parent class, which is Student. This will act as a holder for all the object. So we only need to check if an instance is part of that super class. "
      ]
    },
    {
      "cell_type": "code",
      "metadata": {
        "id": "3HuT6JX8FHzC",
        "colab_type": "code",
        "colab": {}
      },
      "source": [
        "class Prof(SUTD):\n",
        "  def __init__(self,name,department):\n",
        "    SUTD.__init__(self,name)\n",
        "    self.department = department\n",
        "  def speak(self,spoken):\n",
        "    newSpoken = 'in '+self.department+' we say'\n",
        "    return SUTD.speak(self,newSpoken+spoken)\n",
        "  def lecure(self,topic):\n",
        "    return self.speak('it is obvious that '+topic+' is done this way')\n",
        "  \n",
        "Falculty = Prof('professor hopkins','physics')"
      ],
      "execution_count": 0,
      "outputs": []
    },
    {
      "cell_type": "code",
      "metadata": {
        "id": "WsXU3wu4eUzP",
        "colab_type": "code",
        "outputId": "614479a5-9cae-4709-9c01-0fd7bef6e65a",
        "colab": {
          "base_uri": "https://localhost:8080/",
          "height": 34
        }
      },
      "source": [
        "print(Falculty)"
      ],
      "execution_count": 0,
      "outputs": [
        {
          "output_type": "stream",
          "text": [
            "professor hopkins\n"
          ],
          "name": "stdout"
        }
      ]
    },
    {
      "cell_type": "code",
      "metadata": {
        "id": "xjSxbVBQeYR3",
        "colab_type": "code",
        "colab": {}
      },
      "source": [
        ""
      ],
      "execution_count": 0,
      "outputs": []
    }
  ]
}
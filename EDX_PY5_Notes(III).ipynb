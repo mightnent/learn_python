{
  "nbformat": 4,
  "nbformat_minor": 0,
  "metadata": {
    "colab": {
      "name": "EDX_PY5_Notes(III).ipynb",
      "provenance": [],
      "collapsed_sections": [],
      "include_colab_link": true
    },
    "kernelspec": {
      "name": "python3",
      "display_name": "Python 3"
    }
  },
  "cells": [
    {
      "cell_type": "markdown",
      "metadata": {
        "id": "view-in-github",
        "colab_type": "text"
      },
      "source": [
        "<a href=\"https://colab.research.google.com/github/mightnent/learn_python/blob/master/EDX_PY5_Notes(III).ipynb\" target=\"_parent\"><img src=\"https://colab.research.google.com/assets/colab-badge.svg\" alt=\"Open In Colab\"/></a>"
      ]
    },
    {
      "cell_type": "markdown",
      "metadata": {
        "id": "RiSCCRNZH4_5",
        "colab_type": "text"
      },
      "source": [
        "# Using inheritance"
      ]
    },
    {
      "cell_type": "code",
      "metadata": {
        "id": "b-a5OMfJHw2D",
        "colab_type": "code",
        "colab": {}
      },
      "source": [
        "import datetime\n",
        "class Person(object):\n",
        "  def __init__(self,name):\n",
        "    self.name = name\n",
        "    self.birthday = None\n",
        "    self.last_name = name.split(' ')[-1]\n",
        "  def getLastName(self):\n",
        "    return self.last_name\n",
        "  def __lt__(self,other):\n",
        "    if self.last_name == other.last_name:\n",
        "      return self.last_name < other.last_name\n",
        "    return self.last_name < other.last_name\n",
        "  def __str__(self):\n",
        "    return str(self.name)\n",
        "  def setBirthday(self,day,month,year):\n",
        "    self.birthday = datetime.date(year,month,day)\n",
        "  def getAge(self):\n",
        "    if self.birthday == None:\n",
        "      raise ValueError\n",
        "    else:\n",
        "      return (datetime.date.today()-self.birthday).days"
      ],
      "execution_count": 0,
      "outputs": []
    },
    {
      "cell_type": "code",
      "metadata": {
        "id": "hI4pzJp2InF3",
        "colab_type": "code",
        "colab": {}
      },
      "source": [
        "peter_parker = Person('peter parker')"
      ],
      "execution_count": 0,
      "outputs": []
    },
    {
      "cell_type": "code",
      "metadata": {
        "id": "1b5IcZm_Ix6A",
        "colab_type": "code",
        "outputId": "9914048b-a44e-4a90-906d-d1236099dd18",
        "colab": {
          "base_uri": "https://localhost:8080/",
          "height": 34
        }
      },
      "source": [
        "print(peter_parker)"
      ],
      "execution_count": 50,
      "outputs": [
        {
          "output_type": "stream",
          "text": [
            "peter parker\n"
          ],
          "name": "stdout"
        }
      ]
    },
    {
      "cell_type": "code",
      "metadata": {
        "id": "HkLl4cfrIzzT",
        "colab_type": "code",
        "colab": {}
      },
      "source": [
        "peter_parker.setBirthday(14,5,1998)"
      ],
      "execution_count": 0,
      "outputs": []
    },
    {
      "cell_type": "code",
      "metadata": {
        "id": "0UjehhbeKBKw",
        "colab_type": "code",
        "outputId": "65aeda96-b616-4982-d5fb-c98b62d49ee4",
        "colab": {
          "base_uri": "https://localhost:8080/",
          "height": 34
        }
      },
      "source": [
        "peter_parker.getAge()"
      ],
      "execution_count": 52,
      "outputs": [
        {
          "output_type": "execute_result",
          "data": {
            "text/plain": [
              "7831"
            ]
          },
          "metadata": {
            "tags": []
          },
          "execution_count": 52
        }
      ]
    },
    {
      "cell_type": "markdown",
      "metadata": {
        "id": "69MDtCi1dDy4",
        "colab_type": "text"
      },
      "source": [
        "<br>\n"
      ]
    },
    {
      "cell_type": "markdown",
      "metadata": {
        "id": "uBH-IPXvdHX6",
        "colab_type": "text"
      },
      "source": [
        "lets say p1 is a parent class object with \"lt\" method by comparing names\n",
        "p2 is a child class object that uses \"lt\" to compare id\n",
        "\n",
        "p1 < p2 will work \n",
        "but p2 < p1 will not\n",
        "\n",
        "this is because p1 has no id attribute\n"
      ]
    },
    {
      "cell_type": "code",
      "metadata": {
        "id": "jyVeEaFydDW8",
        "colab_type": "code",
        "colab": {}
      },
      "source": [
        "class SUTD(Person):\n",
        "  nextId = 0\n",
        "  def __init__(self,name):\n",
        "    Person.__init__(self,name)\n",
        "    self.Id = SUTD.nextId\n",
        "    SUTD.nextId += 1\n",
        "  def getIdNum(self):\n",
        "    return self.Id\n",
        "  def __lt__(self,other):\n",
        "    return other.Id < self.Id\n",
        "  def speak(self,spoken):\n",
        "    return (self.getLastName()+' '+spoken)"
      ],
      "execution_count": 0,
      "outputs": []
    },
    {
      "cell_type": "code",
      "metadata": {
        "id": "ItutA0S1KHJ1",
        "colab_type": "code",
        "colab": {}
      },
      "source": [
        "X = SUTD('micheal lynch')"
      ],
      "execution_count": 0,
      "outputs": []
    },
    {
      "cell_type": "code",
      "metadata": {
        "id": "1xq-GJps7Nn-",
        "colab_type": "code",
        "outputId": "8de97822-3b22-4227-ec16-f16bd4ef5cc6",
        "colab": {
          "base_uri": "https://localhost:8080/",
          "height": 34
        }
      },
      "source": [
        "print(X)"
      ],
      "execution_count": 55,
      "outputs": [
        {
          "output_type": "stream",
          "text": [
            "micheal lynch\n"
          ],
          "name": "stdout"
        }
      ]
    },
    {
      "cell_type": "code",
      "metadata": {
        "id": "8TqIIUtI7T6Q",
        "colab_type": "code",
        "outputId": "e121ffbb-bec3-49c4-f520-e05ca843eb74",
        "colab": {
          "base_uri": "https://localhost:8080/",
          "height": 34
        }
      },
      "source": [
        "print(X.getIdNum())"
      ],
      "execution_count": 56,
      "outputs": [
        {
          "output_type": "stream",
          "text": [
            "0\n"
          ],
          "name": "stdout"
        }
      ]
    },
    {
      "cell_type": "code",
      "metadata": {
        "id": "dHnoB7Ag7c4q",
        "colab_type": "code",
        "colab": {}
      },
      "source": [
        "class Student(SUTD):\n",
        "  pass\n",
        "class UG(Student):\n",
        "  def __init__(self,name,class_of):\n",
        "    SUTD.__init__(self,name)\n",
        "    self.class_of = class_of\n",
        "  def get_class(self):\n",
        "    return self.class_of\n",
        "  def speak(self,spoken):\n",
        "    return SUTD.speak(self,\"lmao \" + spoken)\n",
        "class Grads(Student):\n",
        "  pass\n",
        "class Transfer(Student):\n",
        "  pass\n",
        "\n",
        "def isStudent(obj):\n",
        "  return isinstance(obj,Student)"
      ],
      "execution_count": 0,
      "outputs": []
    },
    {
      "cell_type": "code",
      "metadata": {
        "id": "nsHnsqBBEs6A",
        "colab_type": "code",
        "colab": {}
      },
      "source": [
        "mike = UG('mike',class_of=2023) "
      ],
      "execution_count": 0,
      "outputs": []
    },
    {
      "cell_type": "code",
      "metadata": {
        "id": "UOthdwuZE2mj",
        "colab_type": "code",
        "outputId": "635e6af7-3360-492f-8055-b7eb88d5468d",
        "colab": {
          "base_uri": "https://localhost:8080/",
          "height": 34
        }
      },
      "source": [
        "mike.get_class()"
      ],
      "execution_count": 59,
      "outputs": [
        {
          "output_type": "execute_result",
          "data": {
            "text/plain": [
              "2023"
            ]
          },
          "metadata": {
            "tags": []
          },
          "execution_count": 59
        }
      ]
    },
    {
      "cell_type": "code",
      "metadata": {
        "id": "wQgseEMQE5vE",
        "colab_type": "code",
        "outputId": "c433ebfa-be33-45a4-f83d-f4fb40316b70",
        "colab": {
          "base_uri": "https://localhost:8080/",
          "height": 34
        }
      },
      "source": [
        "isStudent(mike)"
      ],
      "execution_count": 60,
      "outputs": [
        {
          "output_type": "execute_result",
          "data": {
            "text/plain": [
              "True"
            ]
          },
          "metadata": {
            "tags": []
          },
          "execution_count": 60
        }
      ]
    },
    {
      "cell_type": "code",
      "metadata": {
        "id": "2SA1CPnnE8Qh",
        "colab_type": "code",
        "outputId": "11f022ca-90ab-41db-8459-c0c7c2363c70",
        "colab": {
          "base_uri": "https://localhost:8080/",
          "height": 34
        }
      },
      "source": [
        "print(mike.speak(\"how are you\"))"
      ],
      "execution_count": 61,
      "outputs": [
        {
          "output_type": "stream",
          "text": [
            "mike lmao how are you\n"
          ],
          "name": "stdout"
        }
      ]
    },
    {
      "cell_type": "markdown",
      "metadata": {
        "id": "K5cZd3bLFeki",
        "colab_type": "text"
      },
      "source": [
        "The whole rationale of this is to make the code cleaner. We pull all the sub class under one abstract parent class, which is Student. This will act as a holder for all the object. So we only need to check if an instance is part of that super class. "
      ]
    },
    {
      "cell_type": "code",
      "metadata": {
        "id": "3HuT6JX8FHzC",
        "colab_type": "code",
        "colab": {}
      },
      "source": [
        "class Prof(SUTD):\n",
        "  def __init__(self,name,department):\n",
        "    SUTD.__init__(self,name)\n",
        "    self.department = department\n",
        "  def speak(self,spoken):\n",
        "    newSpoken = 'in '+self.department+' we say'\n",
        "    return SUTD.speak(self,newSpoken+spoken)\n",
        "  def lecure(self,topic):\n",
        "    return self.speak('it is obvious that '+topic+' is done this way')\n",
        "  \n",
        "Falculty = Prof('professor hopkins','physics')"
      ],
      "execution_count": 0,
      "outputs": []
    },
    {
      "cell_type": "code",
      "metadata": {
        "id": "WsXU3wu4eUzP",
        "colab_type": "code",
        "outputId": "c699880a-90a5-4ef3-b9f4-204f58328f50",
        "colab": {
          "base_uri": "https://localhost:8080/",
          "height": 34
        }
      },
      "source": [
        "print(Falculty)"
      ],
      "execution_count": 63,
      "outputs": [
        {
          "output_type": "stream",
          "text": [
            "professor hopkins\n"
          ],
          "name": "stdout"
        }
      ]
    },
    {
      "cell_type": "markdown",
      "metadata": {
        "id": "bXpQ_JbGu4nd",
        "colab_type": "text"
      },
      "source": [
        "<br>\n"
      ]
    },
    {
      "cell_type": "markdown",
      "metadata": {
        "id": "WBSXHUJYu5-h",
        "colab_type": "text"
      },
      "source": [
        "# Example, creating a grade book"
      ]
    },
    {
      "cell_type": "code",
      "metadata": {
        "id": "xjSxbVBQeYR3",
        "colab_type": "code",
        "colab": {}
      },
      "source": [
        "class Grades(object):\n",
        "  def __init__(self):\n",
        "    #list of student object\n",
        "    self.students = []\n",
        "    #dict to map student id to grades\n",
        "    self.grades = {}\n",
        "    #check if sorted\n",
        "    self.isSorted = True\n",
        "  def addStudent(self,student): #student here is an instance\n",
        "    if student in self.students:\n",
        "      raise ValueError(\"Duplicate entry\")\n",
        "    self.students.append(student)\n",
        "    # when you use grades[], it is looking for a key in the dict\n",
        "    #so basically will create the key if it does not exist\n",
        "    #then assign a value given by the list after the =\n",
        "    self.grades[student.getIdNum()] = []\n",
        "    self.isSorted = False\n",
        "\n",
        "  def addGrade(self,student,grade):\n",
        "    #find the student(key) in the dict, then append to the value list\n",
        "    try:\n",
        "      self.grades[student.getIdNum()].append(grade)\n",
        "    except KeyError:\n",
        "      raise ValueError(\"student not found\")\n",
        "  def getGrade(self,student):\n",
        "    try:\n",
        "      return self.grades[student.getIdNum()][:]\n",
        "    except KeyError:\n",
        "      raise ValueError(\"student not found\")\n",
        "  def allStudent(self):\n",
        "    if not self.isSorted:\n",
        "      self.students.sort()\n",
        "      self.isSorted = True\n",
        "    #return a copy is inefficient\n",
        "    #return self.students[:]\n",
        "    #instead, we use a generator and generate 1 student at a time\n",
        "    for s in self.students:\n",
        "      yield s\n",
        "def gradeReport(course):\n",
        "  '''course is a type of grade '''\n",
        "  report = []\n",
        "  for s in course.allStudent():\n",
        "    total = 0.0\n",
        "    num_grade = 0\n",
        "    for g in course.getGrade(s):\n",
        "      total +=g\n",
        "      num_grade +=1\n",
        "    try:\n",
        "      avg = total/num_grade\n",
        "      report.append(str(s)+'\\'s mean grade is '+str(avg))\n",
        "    except ZeroDivisionError:\n",
        "      report.append(str(s)+' has no grades')\n",
        "  return '\\n'.join(report)"
      ],
      "execution_count": 0,
      "outputs": []
    },
    {
      "cell_type": "code",
      "metadata": {
        "id": "0WEzf7MBHWfo",
        "colab_type": "code",
        "colab": {}
      },
      "source": [
        "ug1 = UG(\"mike\",2019)\n",
        "ug2 = UG(\"charis,\",2019)\n",
        "ug3 = UG(\"chester\",2019)\n",
        "g1 = Grads(\"hb\")\n",
        "g2 = Grads(\"hogwart\")\n"
      ],
      "execution_count": 0,
      "outputs": []
    },
    {
      "cell_type": "code",
      "metadata": {
        "id": "-zud-65tISlI",
        "colab_type": "code",
        "colab": {}
      },
      "source": [
        "physics = Grades()"
      ],
      "execution_count": 0,
      "outputs": []
    },
    {
      "cell_type": "code",
      "metadata": {
        "id": "KHGpcxpDIX9h",
        "colab_type": "code",
        "colab": {}
      },
      "source": [
        "physics.addStudent(ug1)\n",
        "physics.addStudent(ug2)\n",
        "physics.addStudent(ug3)\n",
        "physics.addStudent(g1)\n",
        "physics.addStudent(g2)"
      ],
      "execution_count": 0,
      "outputs": []
    },
    {
      "cell_type": "code",
      "metadata": {
        "id": "asJrPZ-YIgg8",
        "colab_type": "code",
        "colab": {}
      },
      "source": [
        "physics.addGrade(ug1,100)"
      ],
      "execution_count": 0,
      "outputs": []
    },
    {
      "cell_type": "code",
      "metadata": {
        "id": "9F83PcVhIm8F",
        "colab_type": "code",
        "outputId": "12866d49-aa69-40bd-83be-63ecd2944277",
        "colab": {
          "base_uri": "https://localhost:8080/",
          "height": 105
        }
      },
      "source": [
        "print(gradeReport(physics))"
      ],
      "execution_count": 69,
      "outputs": [
        {
          "output_type": "stream",
          "text": [
            "hogwart has no grades\n",
            "hb has no grades\n",
            "chester has no grades\n",
            "charis, has no grades\n",
            "mike's mean grade is 100.0\n"
          ],
          "name": "stdout"
        }
      ]
    },
    {
      "cell_type": "markdown",
      "metadata": {
        "id": "qoI1eyyG5N86",
        "colab_type": "text"
      },
      "source": [
        "<br>"
      ]
    },
    {
      "cell_type": "markdown",
      "metadata": {
        "id": "2tOtk2_e5P59",
        "colab_type": "text"
      },
      "source": [
        "# Using Generators"
      ]
    },
    {
      "cell_type": "markdown",
      "metadata": {
        "id": "b21U83F65ZTy",
        "colab_type": "text"
      },
      "source": [
        "generators has a build in method called \\__next__()\n",
        "\n",
        "this will look for **yield** and step through them until an **StopIteration** exception is raised\n",
        "\n",
        "**IMPT**: anything with yield will be taken as generator\n"
      ]
    },
    {
      "cell_type": "code",
      "metadata": {
        "id": "dgKRKfCqLCXS",
        "colab_type": "code",
        "colab": {
          "base_uri": "https://localhost:8080/",
          "height": 34
        },
        "outputId": "d7402aa7-9a84-44b6-de6b-76717588d509"
      },
      "source": [
        "\"\"\"\n",
        "structure:\n",
        "\n",
        "def genTest():\n",
        "  yield 1\n",
        "  yield 2 \n",
        "\"\"\""
      ],
      "execution_count": 70,
      "outputs": [
        {
          "output_type": "execute_result",
          "data": {
            "text/plain": [
              "'\\nstructure:\\n\\ndef genTest():\\n  yield 1\\n  yield 2 \\n'"
            ]
          },
          "metadata": {
            "tags": []
          },
          "execution_count": 70
        }
      ]
    },
    {
      "cell_type": "code",
      "metadata": {
        "id": "WS4f4ffx6Zr8",
        "colab_type": "code",
        "colab": {}
      },
      "source": [
        "#some application:\n",
        "\n",
        "def fibGen():\n",
        "  fib1 = 0\n",
        "  fib2 = 1\n",
        "  fibGen.store = [fib2]\n",
        "  while True:\n",
        "    next = fib1 + fib2\n",
        "    yield next\n",
        "    fib1 = fib2\n",
        "    fib2 = next\n",
        "    #store.append(fib2)\n",
        " \n",
        "\n",
        "  "
      ],
      "execution_count": 0,
      "outputs": []
    },
    {
      "cell_type": "code",
      "metadata": {
        "id": "Zqz1-bRk7l2y",
        "colab_type": "code",
        "colab": {}
      },
      "source": [
        "fib = fibGen()"
      ],
      "execution_count": 0,
      "outputs": []
    },
    {
      "cell_type": "code",
      "metadata": {
        "id": "zzpwhx6a8SUy",
        "colab_type": "code",
        "colab": {
          "base_uri": "https://localhost:8080/",
          "height": 34
        },
        "outputId": "ede3ecbd-e48b-4c97-e8a3-bafeef2ef9d3"
      },
      "source": [
        "fib.__next__()"
      ],
      "execution_count": 73,
      "outputs": [
        {
          "output_type": "execute_result",
          "data": {
            "text/plain": [
              "1"
            ]
          },
          "metadata": {
            "tags": []
          },
          "execution_count": 73
        }
      ]
    },
    {
      "cell_type": "code",
      "metadata": {
        "id": "8o7q2aPk8XVE",
        "colab_type": "code",
        "colab": {
          "base_uri": "https://localhost:8080/",
          "height": 34
        },
        "outputId": "7b803263-61c5-45e5-b4d3-5870ba6120a2"
      },
      "source": [
        "#just a little trick to access var of other function\n",
        "print(fibGen.store)"
      ],
      "execution_count": 74,
      "outputs": [
        {
          "output_type": "stream",
          "text": [
            "[1]\n"
          ],
          "name": "stdout"
        }
      ]
    },
    {
      "cell_type": "code",
      "metadata": {
        "id": "SSQqJdYh-A7H",
        "colab_type": "code",
        "colab": {}
      },
      "source": [
        "#main idea: the loop will be step by step, hence will not go into infinite loop"
      ],
      "execution_count": 0,
      "outputs": []
    },
    {
      "cell_type": "code",
      "metadata": {
        "id": "_JCPQGHT-orG",
        "colab_type": "code",
        "colab": {}
      },
      "source": [
        "#go back to the grade book example, write the allStudent function"
      ],
      "execution_count": 0,
      "outputs": []
    }
  ]
}
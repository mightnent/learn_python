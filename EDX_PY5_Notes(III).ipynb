{
  "nbformat": 4,
  "nbformat_minor": 0,
  "metadata": {
    "colab": {
      "name": "EDX_PY5_Notes(III).ipynb",
      "provenance": [],
      "collapsed_sections": [],
      "include_colab_link": true
    },
    "kernelspec": {
      "name": "python3",
      "display_name": "Python 3"
    }
  },
  "cells": [
    {
      "cell_type": "markdown",
      "metadata": {
        "id": "view-in-github",
        "colab_type": "text"
      },
      "source": [
        "<a href=\"https://colab.research.google.com/github/mightnent/learn_python/blob/master/EDX_PY5_Notes(III).ipynb\" target=\"_parent\"><img src=\"https://colab.research.google.com/assets/colab-badge.svg\" alt=\"Open In Colab\"/></a>"
      ]
    },
    {
      "cell_type": "markdown",
      "metadata": {
        "id": "RiSCCRNZH4_5",
        "colab_type": "text"
      },
      "source": [
        "# Using inheritance"
      ]
    },
    {
      "cell_type": "code",
      "metadata": {
        "id": "b-a5OMfJHw2D",
        "colab_type": "code",
        "colab": {}
      },
      "source": [
        "import datetime\n",
        "class Person(object):\n",
        "  def __init__(self,name):\n",
        "    self.name = name\n",
        "    self.birthday = None\n",
        "    self.last_name = name.split(' ')[-1]\n",
        "  def getLastName(self):\n",
        "    return self.last_name\n",
        "  def __lt__(self,other):\n",
        "    if self.last_name == other.last_name:\n",
        "      return self.last_name < other.last_name\n",
        "    return self.last_name < other.last_name\n",
        "  def __str__(self):\n",
        "    return str(self.name)\n",
        "  def setBirthday(self,day,month,year):\n",
        "    self.birthday = datetime.date(year,month,day)\n",
        "  def getAge(self):\n",
        "    if self.birthday == None:\n",
        "      raise ValueError\n",
        "    else:\n",
        "      return (datetime.date.today()-self.birthday).days"
      ],
      "execution_count": 0,
      "outputs": []
    },
    {
      "cell_type": "code",
      "metadata": {
        "id": "hI4pzJp2InF3",
        "colab_type": "code",
        "colab": {}
      },
      "source": [
        "peter_parker = Person('peter parker')"
      ],
      "execution_count": 0,
      "outputs": []
    },
    {
      "cell_type": "code",
      "metadata": {
        "id": "1b5IcZm_Ix6A",
        "colab_type": "code",
        "outputId": "efb74a91-a971-4d93-edab-9b4b80199740",
        "colab": {
          "base_uri": "https://localhost:8080/",
          "height": 34
        }
      },
      "source": [
        "print(peter_parker)"
      ],
      "execution_count": 36,
      "outputs": [
        {
          "output_type": "stream",
          "text": [
            "peter parker\n"
          ],
          "name": "stdout"
        }
      ]
    },
    {
      "cell_type": "code",
      "metadata": {
        "id": "HkLl4cfrIzzT",
        "colab_type": "code",
        "colab": {}
      },
      "source": [
        "peter_parker.setBirthday(14,5,1998)"
      ],
      "execution_count": 0,
      "outputs": []
    },
    {
      "cell_type": "code",
      "metadata": {
        "id": "0UjehhbeKBKw",
        "colab_type": "code",
        "outputId": "6796e358-aa79-499f-9b83-f71441934986",
        "colab": {
          "base_uri": "https://localhost:8080/",
          "height": 34
        }
      },
      "source": [
        "peter_parker.getAge()"
      ],
      "execution_count": 38,
      "outputs": [
        {
          "output_type": "execute_result",
          "data": {
            "text/plain": [
              "7830"
            ]
          },
          "metadata": {
            "tags": []
          },
          "execution_count": 38
        }
      ]
    },
    {
      "cell_type": "markdown",
      "metadata": {
        "id": "69MDtCi1dDy4",
        "colab_type": "text"
      },
      "source": [
        "<br>\n"
      ]
    },
    {
      "cell_type": "markdown",
      "metadata": {
        "id": "uBH-IPXvdHX6",
        "colab_type": "text"
      },
      "source": [
        "lets say p1 is a parent class object with \"lt\" method by comparing names\n",
        "p2 is a child class object that uses \"lt\" to compare id\n",
        "\n",
        "p1 < p2 will work \n",
        "but p2 < p1 will not\n",
        "\n",
        "this is because p1 has no id attribute\n"
      ]
    },
    {
      "cell_type": "code",
      "metadata": {
        "id": "jyVeEaFydDW8",
        "colab_type": "code",
        "colab": {}
      },
      "source": [
        "class SUTD(Person):\n",
        "  nextId = 0\n",
        "  def __init__(self,name):\n",
        "    Person.__init__(self,name)\n",
        "    self.Id = SUTD.nextId\n",
        "    SUTD.nextId += 1\n",
        "  def getIdNum(self):\n",
        "    return self.Id\n",
        "  def __lt__(self,other):\n",
        "    return other.Id < self.Id\n",
        "  def speak(self,spoken):\n",
        "    return (self.getLastName()+' '+spoken)"
      ],
      "execution_count": 0,
      "outputs": []
    },
    {
      "cell_type": "code",
      "metadata": {
        "id": "ItutA0S1KHJ1",
        "colab_type": "code",
        "colab": {}
      },
      "source": [
        "X = SUTD('micheal lynch')"
      ],
      "execution_count": 0,
      "outputs": []
    },
    {
      "cell_type": "code",
      "metadata": {
        "id": "1xq-GJps7Nn-",
        "colab_type": "code",
        "outputId": "5c976a8b-6a59-419c-daa0-047e34b27330",
        "colab": {
          "base_uri": "https://localhost:8080/",
          "height": 34
        }
      },
      "source": [
        "print(X)"
      ],
      "execution_count": 41,
      "outputs": [
        {
          "output_type": "stream",
          "text": [
            "micheal lynch\n"
          ],
          "name": "stdout"
        }
      ]
    },
    {
      "cell_type": "code",
      "metadata": {
        "id": "8TqIIUtI7T6Q",
        "colab_type": "code",
        "outputId": "d9974a79-5aef-4db1-b807-1ae241203821",
        "colab": {
          "base_uri": "https://localhost:8080/",
          "height": 34
        }
      },
      "source": [
        "print(X.getIdNum())"
      ],
      "execution_count": 42,
      "outputs": [
        {
          "output_type": "stream",
          "text": [
            "0\n"
          ],
          "name": "stdout"
        }
      ]
    },
    {
      "cell_type": "code",
      "metadata": {
        "id": "dHnoB7Ag7c4q",
        "colab_type": "code",
        "colab": {}
      },
      "source": [
        "class Student(SUTD):\n",
        "  pass\n",
        "class UG(Student):\n",
        "  def __init__(self,name,class_of):\n",
        "    SUTD.__init__(self,name)\n",
        "    self.class_of = class_of\n",
        "  def get_class(self):\n",
        "    return self.class_of\n",
        "  def speak(self,spoken):\n",
        "    return SUTD.speak(self,\"lmao \" + spoken)\n",
        "class Grads(Student):\n",
        "  pass\n",
        "class Transfer(Student):\n",
        "  pass\n",
        "\n",
        "def isStudent(obj):\n",
        "  return isinstance(obj,Student)"
      ],
      "execution_count": 0,
      "outputs": []
    },
    {
      "cell_type": "code",
      "metadata": {
        "id": "nsHnsqBBEs6A",
        "colab_type": "code",
        "colab": {}
      },
      "source": [
        "mike = UG('mike',class_of=2023) "
      ],
      "execution_count": 0,
      "outputs": []
    },
    {
      "cell_type": "code",
      "metadata": {
        "id": "UOthdwuZE2mj",
        "colab_type": "code",
        "outputId": "ff360250-6365-4d38-a935-2addb60e2d19",
        "colab": {
          "base_uri": "https://localhost:8080/",
          "height": 34
        }
      },
      "source": [
        "mike.get_class()"
      ],
      "execution_count": 45,
      "outputs": [
        {
          "output_type": "execute_result",
          "data": {
            "text/plain": [
              "2023"
            ]
          },
          "metadata": {
            "tags": []
          },
          "execution_count": 45
        }
      ]
    },
    {
      "cell_type": "code",
      "metadata": {
        "id": "wQgseEMQE5vE",
        "colab_type": "code",
        "outputId": "640026e0-5407-4676-a8ff-a04c197c5eb8",
        "colab": {
          "base_uri": "https://localhost:8080/",
          "height": 34
        }
      },
      "source": [
        "isStudent(mike)"
      ],
      "execution_count": 46,
      "outputs": [
        {
          "output_type": "execute_result",
          "data": {
            "text/plain": [
              "True"
            ]
          },
          "metadata": {
            "tags": []
          },
          "execution_count": 46
        }
      ]
    },
    {
      "cell_type": "code",
      "metadata": {
        "id": "2SA1CPnnE8Qh",
        "colab_type": "code",
        "outputId": "ddf64fcc-0a30-4c81-ee03-f356cf7bf564",
        "colab": {
          "base_uri": "https://localhost:8080/",
          "height": 34
        }
      },
      "source": [
        "print(mike.speak(\"how are you\"))"
      ],
      "execution_count": 47,
      "outputs": [
        {
          "output_type": "stream",
          "text": [
            "mike lmao how are you\n"
          ],
          "name": "stdout"
        }
      ]
    },
    {
      "cell_type": "markdown",
      "metadata": {
        "id": "K5cZd3bLFeki",
        "colab_type": "text"
      },
      "source": [
        "The whole rationale of this is to make the code cleaner. We pull all the sub class under one abstract parent class, which is Student. This will act as a holder for all the object. So we only need to check if an instance is part of that super class. "
      ]
    },
    {
      "cell_type": "code",
      "metadata": {
        "id": "3HuT6JX8FHzC",
        "colab_type": "code",
        "colab": {}
      },
      "source": [
        "class Prof(SUTD):\n",
        "  def __init__(self,name,department):\n",
        "    SUTD.__init__(self,name)\n",
        "    self.department = department\n",
        "  def speak(self,spoken):\n",
        "    newSpoken = 'in '+self.department+' we say'\n",
        "    return SUTD.speak(self,newSpoken+spoken)\n",
        "  def lecure(self,topic):\n",
        "    return self.speak('it is obvious that '+topic+' is done this way')\n",
        "  \n",
        "Falculty = Prof('professor hopkins','physics')"
      ],
      "execution_count": 0,
      "outputs": []
    },
    {
      "cell_type": "code",
      "metadata": {
        "id": "WsXU3wu4eUzP",
        "colab_type": "code",
        "outputId": "24d5c32e-1735-4d9f-f593-a5ae3e22ac10",
        "colab": {
          "base_uri": "https://localhost:8080/",
          "height": 34
        }
      },
      "source": [
        "print(Falculty)"
      ],
      "execution_count": 49,
      "outputs": [
        {
          "output_type": "stream",
          "text": [
            "professor hopkins\n"
          ],
          "name": "stdout"
        }
      ]
    },
    {
      "cell_type": "markdown",
      "metadata": {
        "id": "bXpQ_JbGu4nd",
        "colab_type": "text"
      },
      "source": [
        "<br>\n"
      ]
    },
    {
      "cell_type": "markdown",
      "metadata": {
        "id": "WBSXHUJYu5-h",
        "colab_type": "text"
      },
      "source": [
        "# Example, creating a grade book"
      ]
    },
    {
      "cell_type": "code",
      "metadata": {
        "id": "xjSxbVBQeYR3",
        "colab_type": "code",
        "colab": {}
      },
      "source": [
        "class Grades(object):\n",
        "  def __init__(self):\n",
        "    #list of student object\n",
        "    self.students = []\n",
        "    #dict to map student id to grades\n",
        "    self.grades = {}\n",
        "    #check if sorted\n",
        "    self.isSorted = True\n",
        "  def addStudent(self,student): #student here is an instance\n",
        "    if student in self.students:\n",
        "      raise ValueError(\"Duplicate entry\")\n",
        "    self.students.append(student)\n",
        "    # when you use grades[], it is looking for a key in the dict\n",
        "    #so basically will create the key if it does not exist\n",
        "    #then assign a value given by the list after the =\n",
        "    self.grades[student.getIdNum()] = []\n",
        "    self.isSorted = False\n",
        "\n",
        "  def addGrade(self,student,grade):\n",
        "    #find the student(key) in the dict, then append to the value list\n",
        "    try:\n",
        "      self.grades[student.getIdNum()].append(grade)\n",
        "    except KeyError:\n",
        "      raise ValueError(\"student not found\")\n",
        "  def getGrade(self,student):\n",
        "    try:\n",
        "      return self.grades[student.getIdNum()][:]\n",
        "    except KeyError:\n",
        "      raise ValueError(\"student not found\")\n",
        "  def allStudent(self):\n",
        "    if not self.isSorted:\n",
        "      self.students.sort()\n",
        "      self.isSorted = True\n",
        "    #return a copy\n",
        "    return self.students[:]\n",
        "def gradeReport(course):\n",
        "  '''course is a type of grade '''\n",
        "  report = []\n",
        "  for s in course.allStudent():\n",
        "    total = 0.0\n",
        "    num_grade = 0\n",
        "    for g in course.getGrade(s):\n",
        "      total +=g\n",
        "      num_grade +=1\n",
        "    try:\n",
        "      avg = total/num_grade\n",
        "      report.append(str(s)+'\\'s mean grade is '+str(avg))\n",
        "    except ZeroDivisionError:\n",
        "      report.append(str(s)+' has no grades')\n",
        "  return '\\n'.join(report)"
      ],
      "execution_count": 0,
      "outputs": []
    },
    {
      "cell_type": "code",
      "metadata": {
        "id": "0WEzf7MBHWfo",
        "colab_type": "code",
        "colab": {}
      },
      "source": [
        "ug1 = UG(\"mike\",2019)\n",
        "ug2 = UG(\"charis,\",2019)\n",
        "ug3 = UG(\"chester\",2019)\n",
        "g1 = Grads(\"hb\")\n",
        "g2 = Grads(\"hogwart\")\n"
      ],
      "execution_count": 0,
      "outputs": []
    },
    {
      "cell_type": "code",
      "metadata": {
        "id": "-zud-65tISlI",
        "colab_type": "code",
        "colab": {}
      },
      "source": [
        "physics = Grades()"
      ],
      "execution_count": 0,
      "outputs": []
    },
    {
      "cell_type": "code",
      "metadata": {
        "id": "KHGpcxpDIX9h",
        "colab_type": "code",
        "colab": {}
      },
      "source": [
        "physics.addStudent(ug1)\n",
        "physics.addStudent(ug2)\n",
        "physics.addStudent(ug3)\n",
        "physics.addStudent(g1)\n",
        "physics.addStudent(g2)"
      ],
      "execution_count": 0,
      "outputs": []
    },
    {
      "cell_type": "code",
      "metadata": {
        "id": "asJrPZ-YIgg8",
        "colab_type": "code",
        "colab": {}
      },
      "source": [
        "physics.addGrade(ug1,100)"
      ],
      "execution_count": 0,
      "outputs": []
    },
    {
      "cell_type": "code",
      "metadata": {
        "id": "9F83PcVhIm8F",
        "colab_type": "code",
        "colab": {
          "base_uri": "https://localhost:8080/",
          "height": 105
        },
        "outputId": "a6a49fc8-4151-4110-d721-f3416955d9f1"
      },
      "source": [
        "print(gradeReport(physics))"
      ],
      "execution_count": 82,
      "outputs": [
        {
          "output_type": "stream",
          "text": [
            "hogwart has no grades\n",
            "hb has no grades\n",
            "chester has no grades\n",
            "charis, has no grades\n",
            "mike's mean grade is 100.0\n"
          ],
          "name": "stdout"
        }
      ]
    },
    {
      "cell_type": "code",
      "metadata": {
        "id": "TyoK_p0fJAn8",
        "colab_type": "code",
        "colab": {}
      },
      "source": [
        "  "
      ],
      "execution_count": 0,
      "outputs": []
    },
    {
      "cell_type": "code",
      "metadata": {
        "id": "dgKRKfCqLCXS",
        "colab_type": "code",
        "colab": {}
      },
      "source": [
        ""
      ],
      "execution_count": 0,
      "outputs": []
    }
  ]
}
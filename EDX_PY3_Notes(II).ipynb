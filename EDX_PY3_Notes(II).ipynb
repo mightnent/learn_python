{
  "nbformat": 4,
  "nbformat_minor": 0,
  "metadata": {
    "colab": {
      "name": "EDX_PY3_Notes(II).ipynb",
      "provenance": [],
      "collapsed_sections": [],
      "include_colab_link": true
    },
    "kernelspec": {
      "name": "python3",
      "display_name": "Python 3"
    }
  },
  "cells": [
    {
      "cell_type": "markdown",
      "metadata": {
        "id": "view-in-github",
        "colab_type": "text"
      },
      "source": [
        "<a href=\"https://colab.research.google.com/github/mightnent/learn_python/blob/MITx-6.00.1x/EDX_PY3_Notes(II).ipynb\" target=\"_parent\"><img src=\"https://colab.research.google.com/assets/colab-badge.svg\" alt=\"Open In Colab\"/></a>"
      ]
    },
    {
      "cell_type": "markdown",
      "metadata": {
        "id": "ti_PyDon05oJ",
        "colab_type": "text"
      },
      "source": [
        "# Dictionary"
      ]
    },
    {
      "cell_type": "markdown",
      "metadata": {
        "id": "kAws_Jw_1Jr7",
        "colab_type": "text"
      },
      "source": [
        "Key value pair\n",
        "\n",
        "can use the \"in\" method to check \n",
        "\n",
        "keys in dict must be immutable types\n",
        "\n",
        "len(dict) is the number of keys OR values"
      ]
    },
    {
      "cell_type": "code",
      "metadata": {
        "id": "IW8kykpq0XJ6",
        "colab_type": "code",
        "colab": {}
      },
      "source": [
        "myClass = {'name1':\"john\",'name2':'anna','name3':'mike'}"
      ],
      "execution_count": 0,
      "outputs": []
    },
    {
      "cell_type": "code",
      "metadata": {
        "id": "5f2lY1IE1b2T",
        "colab_type": "code",
        "outputId": "c77b7bbb-88cb-4ab5-fc2d-15f423844394",
        "colab": {
          "base_uri": "https://localhost:8080/",
          "height": 34
        }
      },
      "source": [
        "'mike' in myClass['name3']"
      ],
      "execution_count": 0,
      "outputs": [
        {
          "output_type": "execute_result",
          "data": {
            "text/plain": [
              "True"
            ]
          },
          "metadata": {
            "tags": []
          },
          "execution_count": 16
        }
      ]
    },
    {
      "cell_type": "code",
      "metadata": {
        "id": "X7uiQMJV1dtf",
        "colab_type": "code",
        "outputId": "315eeae5-3964-4854-c30f-3ebb899f91bd",
        "colab": {
          "base_uri": "https://localhost:8080/",
          "height": 34
        }
      },
      "source": [
        "myClass.keys()"
      ],
      "execution_count": 0,
      "outputs": [
        {
          "output_type": "execute_result",
          "data": {
            "text/plain": [
              "dict_keys(['name1', 'name2', 'name3'])"
            ]
          },
          "metadata": {
            "tags": []
          },
          "execution_count": 14
        }
      ]
    },
    {
      "cell_type": "code",
      "metadata": {
        "id": "M8cMmx_Z2K70",
        "colab_type": "code",
        "outputId": "941044b5-fa86-4e94-c33b-08ddc75f0ee3",
        "colab": {
          "base_uri": "https://localhost:8080/",
          "height": 34
        }
      },
      "source": [
        "myClass.values()"
      ],
      "execution_count": 0,
      "outputs": [
        {
          "output_type": "execute_result",
          "data": {
            "text/plain": [
              "dict_values(['john', 'anna', 'mike'])"
            ]
          },
          "metadata": {
            "tags": []
          },
          "execution_count": 15
        }
      ]
    },
    {
      "cell_type": "code",
      "metadata": {
        "id": "lPEtkHJV2PGL",
        "colab_type": "code",
        "outputId": "0003c11e-9dce-4817-f6ee-a94d3d8ac02e",
        "colab": {
          "base_uri": "https://localhost:8080/",
          "height": 34
        }
      },
      "source": [
        "myClass"
      ],
      "execution_count": 0,
      "outputs": [
        {
          "output_type": "execute_result",
          "data": {
            "text/plain": [
              "{'name1': 'john', 'name2': 'anna', 'name3': 'mike'}"
            ]
          },
          "metadata": {
            "tags": []
          },
          "execution_count": 17
        }
      ]
    },
    {
      "cell_type": "code",
      "metadata": {
        "id": "7vf-qRHV2_Vj",
        "colab_type": "code",
        "colab": {}
      },
      "source": [
        "animals = {'a': 'aardvark', 'b': 'baboon', 'c': 'coati'}"
      ],
      "execution_count": 0,
      "outputs": []
    },
    {
      "cell_type": "markdown",
      "metadata": {
        "id": "ZrjR1My33ftl",
        "colab_type": "text"
      },
      "source": [
        "You can append by declaring key value. much simpler than list"
      ]
    },
    {
      "cell_type": "code",
      "metadata": {
        "id": "Z-5wskwI3OGx",
        "colab_type": "code",
        "colab": {}
      },
      "source": [
        "animals['d'] = 'donkey'"
      ],
      "execution_count": 0,
      "outputs": []
    },
    {
      "cell_type": "code",
      "metadata": {
        "id": "dNtA36FC3Pfy",
        "colab_type": "code",
        "outputId": "fdaba249-f8b9-40c0-fae6-67b17216daf3",
        "colab": {
          "base_uri": "https://localhost:8080/",
          "height": 34
        }
      },
      "source": [
        "animals"
      ],
      "execution_count": 0,
      "outputs": [
        {
          "output_type": "execute_result",
          "data": {
            "text/plain": [
              "{'a': 'aardvark', 'b': 'baboon', 'c': 'coati', 'd': 'donkey'}"
            ]
          },
          "metadata": {
            "tags": []
          },
          "execution_count": 20
        }
      ]
    },
    {
      "cell_type": "code",
      "metadata": {
        "id": "bJjJN2fp3UDP",
        "colab_type": "code",
        "outputId": "e66af659-4b60-4c0c-d92e-9993548b8c47",
        "colab": {
          "base_uri": "https://localhost:8080/",
          "height": 34
        }
      },
      "source": [
        "len(animals)"
      ],
      "execution_count": 0,
      "outputs": [
        {
          "output_type": "execute_result",
          "data": {
            "text/plain": [
              "4"
            ]
          },
          "metadata": {
            "tags": []
          },
          "execution_count": 22
        }
      ]
    },
    {
      "cell_type": "code",
      "metadata": {
        "id": "c18XS_uo3YP-",
        "colab_type": "code",
        "outputId": "da2c26cd-be1a-4c0b-d6be-84c03c692f94",
        "colab": {
          "base_uri": "https://localhost:8080/",
          "height": 34
        }
      },
      "source": [
        "animals.keys()"
      ],
      "execution_count": 0,
      "outputs": [
        {
          "output_type": "execute_result",
          "data": {
            "text/plain": [
              "dict_keys(['a', 'b', 'c', 'd'])"
            ]
          },
          "metadata": {
            "tags": []
          },
          "execution_count": 23
        }
      ]
    },
    {
      "cell_type": "code",
      "metadata": {
        "id": "51uLYDav3yZk",
        "colab_type": "code",
        "colab": {}
      },
      "source": [
        "animals['a'] = 'anteater'"
      ],
      "execution_count": 0,
      "outputs": []
    },
    {
      "cell_type": "code",
      "metadata": {
        "id": "SRjFXYZd4Fz-",
        "colab_type": "code",
        "outputId": "ab65409d-8370-430c-f590-231eedb1326b",
        "colab": {
          "base_uri": "https://localhost:8080/",
          "height": 34
        }
      },
      "source": [
        "len(animals['a'])"
      ],
      "execution_count": 0,
      "outputs": [
        {
          "output_type": "execute_result",
          "data": {
            "text/plain": [
              "8"
            ]
          },
          "metadata": {
            "tags": []
          },
          "execution_count": 25
        }
      ]
    },
    {
      "cell_type": "markdown",
      "metadata": {
        "id": "x0c0pmMf9l8q",
        "colab_type": "text"
      },
      "source": [
        "<br>"
      ]
    },
    {
      "cell_type": "markdown",
      "metadata": {
        "id": "wCYJ2TVq9gSK",
        "colab_type": "text"
      },
      "source": [
        "**Examples to make use of dictionary**"
      ]
    },
    {
      "cell_type": "code",
      "metadata": {
        "id": "ipBNDi3m9tzS",
        "colab_type": "code",
        "colab": {}
      },
      "source": [
        "wordss = ['i','j','e','e','f','s','t','i','j','e','e','t']"
      ],
      "execution_count": 0,
      "outputs": []
    },
    {
      "cell_type": "code",
      "metadata": {
        "id": "lEK1CMm84HZb",
        "colab_type": "code",
        "outputId": "4c670a85-3072-4115-9e71-4fb9ec4eb0b8",
        "colab": {
          "base_uri": "https://localhost:8080/",
          "height": 34
        }
      },
      "source": [
        "def wordFreq(words):\n",
        "  myDict={}\n",
        "  for word in words:\n",
        "    if word in myDict:\n",
        "      myDict[word]+=1\n",
        "    else:\n",
        "      myDict[word] = 1\n",
        "  return myDict\n",
        "freq = wordFreq(wordss)\n",
        "print(freq)"
      ],
      "execution_count": 0,
      "outputs": [
        {
          "output_type": "stream",
          "text": [
            "{'i': 2, 'j': 2, 'e': 4, 'f': 1, 's': 1, 't': 2}\n"
          ],
          "name": "stdout"
        }
      ]
    },
    {
      "cell_type": "markdown",
      "metadata": {
        "id": "rXjOfl_G-iA4",
        "colab_type": "text"
      },
      "source": [
        "We then want to find max feq of key and value"
      ]
    },
    {
      "cell_type": "code",
      "metadata": {
        "id": "4eEwKYE2-Zqi",
        "colab_type": "code",
        "colab": {}
      },
      "source": [
        "def mostCommon(freqs):\n",
        "  #freqs is a dict\n",
        "  #value is a list\n",
        "  values = freqs.values()\n",
        "  best = max(values)\n",
        "  myList=[]\n",
        "  for i in freqs:\n",
        "    if freqs[i]==best:\n",
        "      myList.append(i)\n",
        "  return (myList,best)"
      ],
      "execution_count": 0,
      "outputs": []
    },
    {
      "cell_type": "code",
      "metadata": {
        "id": "rkKvLz4O_rie",
        "colab_type": "code",
        "outputId": "775ff97f-2607-4fc9-ad7a-7d5a9b68fdac",
        "colab": {
          "base_uri": "https://localhost:8080/",
          "height": 34
        }
      },
      "source": [
        "mostCommon(freq)"
      ],
      "execution_count": 0,
      "outputs": [
        {
          "output_type": "execute_result",
          "data": {
            "text/plain": [
              "(['e'], 4)"
            ]
          },
          "metadata": {
            "tags": []
          },
          "execution_count": 33
        }
      ]
    },
    {
      "cell_type": "markdown",
      "metadata": {
        "id": "Lvx0Hi1tISgz",
        "colab_type": "text"
      },
      "source": [
        "if you want to find freq more than a certain amount"
      ]
    },
    {
      "cell_type": "code",
      "metadata": {
        "id": "9k_ZIQ2C_vKH",
        "colab_type": "code",
        "colab": {}
      },
      "source": [
        "def wordOften(freqs,minTimes):\n",
        "  result = []\n",
        "  done = False\n",
        "  while not done:\n",
        "    #temp is a tuple\n",
        "    temp = mostCommon(freqs)\n",
        "    if temp[1] >= minTimes:\n",
        "      print(temp[1])\n",
        "      result.append(temp)\n",
        "      #del these in freq because when you loop, will mess up\n",
        "      for w in temp[0]:\n",
        "        del(freqs[w])\n",
        "    else:\n",
        "      done = True\n",
        "  #return result\n",
        "wordOften(freq,3)"
      ],
      "execution_count": 0,
      "outputs": []
    },
    {
      "cell_type": "code",
      "metadata": {
        "id": "mqp50hOkJr5m",
        "colab_type": "code",
        "colab": {}
      },
      "source": [
        "animals = { 'a': ['aardvark'], 'b': ['baboon'], 'c': ['coati']}\n",
        "\n",
        "animals['d'] = ['donkey']\n",
        "animals['d'].append('dog')\n",
        "animals['d'].append('dingo')"
      ],
      "execution_count": 0,
      "outputs": []
    },
    {
      "cell_type": "code",
      "metadata": {
        "id": "S406NwmmLsgt",
        "colab_type": "code",
        "outputId": "722c6396-98e0-491d-af7e-d8b3563b25c3",
        "colab": {
          "base_uri": "https://localhost:8080/",
          "height": 87
        }
      },
      "source": [
        "animals"
      ],
      "execution_count": 0,
      "outputs": [
        {
          "output_type": "execute_result",
          "data": {
            "text/plain": [
              "{'a': ['aardvark'],\n",
              " 'b': ['baboon'],\n",
              " 'c': ['coati'],\n",
              " 'd': ['donkey', 'dog', 'dingo']}"
            ]
          },
          "metadata": {
            "tags": []
          },
          "execution_count": 41
        }
      ]
    },
    {
      "cell_type": "code",
      "metadata": {
        "id": "Q_7DqSlBLtoe",
        "colab_type": "code",
        "outputId": "3f33b8d3-a600-44bb-ac16-545def0d3de4",
        "colab": {
          "base_uri": "https://localhost:8080/",
          "height": 34
        }
      },
      "source": [
        "animals.values()"
      ],
      "execution_count": 0,
      "outputs": [
        {
          "output_type": "execute_result",
          "data": {
            "text/plain": [
              "dict_values([['aardvark'], ['baboon'], ['coati'], ['donkey', 'dog', 'dingo']])"
            ]
          },
          "metadata": {
            "tags": []
          },
          "execution_count": 42
        }
      ]
    },
    {
      "cell_type": "code",
      "metadata": {
        "id": "oMQLBG3RLyXh",
        "colab_type": "code",
        "colab": {
          "base_uri": "https://localhost:8080/",
          "height": 34
        },
        "outputId": "1f676fea-812f-438f-fc16-fd24567ae685"
      },
      "source": [
        "#how to get the total number of animals\n",
        "def how_many(aDict):\n",
        "  newList = []\n",
        "  for sublist in aDict.values():\n",
        "    #print (sublist)\n",
        "    for i in sublist:\n",
        "      newList.append(i)\n",
        "  return len(newList)\n",
        "\n",
        "how_many(animals)\n"
      ],
      "execution_count": 10,
      "outputs": [
        {
          "output_type": "execute_result",
          "data": {
            "text/plain": [
              "6"
            ]
          },
          "metadata": {
            "tags": []
          },
          "execution_count": 10
        }
      ]
    },
    {
      "cell_type": "code",
      "metadata": {
        "id": "ay-ji2NHTZlS",
        "colab_type": "code",
        "colab": {
          "base_uri": "https://localhost:8080/",
          "height": 34
        },
        "outputId": "93b587b5-5f5f-4cdf-e91e-6aaea3927775"
      },
      "source": [
        "def biggest(aDict):\n",
        "  num = 0\n",
        "  k=''\n",
        "  for i,j in aDict.items():\n",
        "    if len(j) > num:\n",
        "      num = len(j)\n",
        "      k=i\n",
        "  return k\n",
        "\n",
        "biggest(animals)\n",
        "    \n"
      ],
      "execution_count": 12,
      "outputs": [
        {
          "output_type": "execute_result",
          "data": {
            "text/plain": [
              "'d'"
            ]
          },
          "metadata": {
            "tags": []
          },
          "execution_count": 12
        }
      ]
    },
    {
      "cell_type": "markdown",
      "metadata": {
        "id": "tNKywfQBYxXW",
        "colab_type": "text"
      },
      "source": [
        "More practical stuff. This could come out in tests\n"
      ]
    },
    {
      "cell_type": "code",
      "metadata": {
        "id": "Sa6nzn_NX8ts",
        "colab_type": "code",
        "colab": {
          "base_uri": "https://localhost:8080/",
          "height": 34
        },
        "outputId": "bf8c0738-fee9-47ba-afd3-e809df173904"
      },
      "source": [
        "#how to compute fib efficiently. This is very important!!!\n",
        "#memoization\n",
        "def fib_eff(n,d):\n",
        "  #n is the fib number, d is the dictionary.\n",
        "  if n in d:\n",
        "    return d[n]\n",
        "  else:\n",
        "    ans = fib_eff(n-1,d)+fib_eff(n-2,d)\n",
        "    d[n] = ans \n",
        "    return ans\n",
        "#base case \n",
        "d={1:1,2:2}\n",
        "print(fib_eff(100,d))"
      ],
      "execution_count": 15,
      "outputs": [
        {
          "output_type": "stream",
          "text": [
            "573147844013817084101\n"
          ],
          "name": "stdout"
        }
      ]
    },
    {
      "cell_type": "markdown",
      "metadata": {
        "id": "X27sUBplbqGa",
        "colab_type": "text"
      },
      "source": [
        "below is the recap to the slow and inefficient recursion"
      ]
    },
    {
      "cell_type": "code",
      "metadata": {
        "id": "M_TF0MkzbS2R",
        "colab_type": "code",
        "colab": {}
      },
      "source": [
        "def fib(n):\n",
        "  if n==1:\n",
        "    return 1\n",
        "  elif n==2:\n",
        "    return 2\n",
        "  else:\n",
        "    return fib(n-1)+fib(n-2)\n",
        "print(fib(100))\n",
        "\n",
        "#this took so long i gave up executing...."
      ],
      "execution_count": 0,
      "outputs": []
    },
    {
      "cell_type": "markdown",
      "metadata": {
        "id": "-3bfOEjvdDBK",
        "colab_type": "text"
      },
      "source": [
        "**Danger!!**\n",
        "\n",
        "Global variable:\n",
        "\n",
        "This case to track how many times function is called\n",
        "\n",
        "Generally, its a variable defined outside of scope of function, yet can be used inside or outside. Therefore global"
      ]
    },
    {
      "cell_type": "code",
      "metadata": {
        "id": "CIumdObzb65T",
        "colab_type": "code",
        "colab": {
          "base_uri": "https://localhost:8080/",
          "height": 52
        },
        "outputId": "3283b108-cf29-4c91-a8a2-98805bb13637"
      },
      "source": [
        "num_calls = 0\n",
        "def fib(n):\n",
        "  global num_calls\n",
        "  num_calls +=1\n",
        "  if n==1:\n",
        "    return 1\n",
        "  elif n==2:\n",
        "    return 2\n",
        "  else:\n",
        "    return fib(n-1)+fib(n-2)\n",
        "print(fib(30))\n",
        "print(num_calls)"
      ],
      "execution_count": 20,
      "outputs": [
        {
          "output_type": "stream",
          "text": [
            "1346269\n",
            "1664079\n"
          ],
          "name": "stdout"
        }
      ]
    }
  ]
}
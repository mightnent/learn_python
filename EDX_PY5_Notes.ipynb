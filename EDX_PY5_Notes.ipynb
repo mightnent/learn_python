{
  "nbformat": 4,
  "nbformat_minor": 0,
  "metadata": {
    "colab": {
      "name": "EDX_PY5_Notes.ipynb",
      "provenance": [],
      "collapsed_sections": [],
      "include_colab_link": true
    },
    "kernelspec": {
      "name": "python3",
      "display_name": "Python 3"
    }
  },
  "cells": [
    {
      "cell_type": "markdown",
      "metadata": {
        "id": "view-in-github",
        "colab_type": "text"
      },
      "source": [
        "<a href=\"https://colab.research.google.com/github/mightnent/learn_python/blob/master/EDX_PY5_Notes.ipynb\" target=\"_parent\"><img src=\"https://colab.research.google.com/assets/colab-badge.svg\" alt=\"Open In Colab\"/></a>"
      ]
    },
    {
      "cell_type": "markdown",
      "metadata": {
        "id": "M00VEsmIcE4g",
        "colab_type": "text"
      },
      "source": [
        "# Object oriented programming"
      ]
    },
    {
      "cell_type": "markdown",
      "metadata": {
        "id": "C-Wm2vsPcTAa",
        "colab_type": "text"
      },
      "source": [
        "Object has\n",
        "\n",
        "\n",
        "*   a type\n",
        "*   an internal data representaion\n",
        "*   set of procedures for interaction\n",
        "\n",
        "a instance of an object is just a specific case.\n",
        "eg, 1 is an instance of int\n",
        "\n",
        "objects can be created and destroyed\n"
      ]
    },
    {
      "cell_type": "code",
      "metadata": {
        "id": "mw71TlhYcBGU",
        "colab_type": "code",
        "colab": {}
      },
      "source": [
        "class Coordinate(object):\n",
        "  def __init__(self,x,y):\n",
        "    self.x = x\n",
        "    self.y = y\n",
        "  def distance(self,other):\n",
        "    dx_sq = (self.x-other.x)**2\n",
        "    dy_sq = (self.y-other.y)**2\n",
        "    return (dx_sq+dy_sq)**0.5\n",
        "  #print will auto look for this __str__\n",
        "  #we are actually overriding the default here\n",
        "  def __str__(self):\n",
        "    return \"<\"+str(self.x)+\",\"+str(self.y)+\">\"\n",
        "  def __sub__(self,other):\n",
        "    return Coordinate(self.x-other.x,self.y-other.y)"
      ],
      "execution_count": 0,
      "outputs": []
    },
    {
      "cell_type": "code",
      "metadata": {
        "id": "MlYpiPrTA8A6",
        "colab_type": "code",
        "outputId": "ed1decad-7ba8-45df-d9d3-b47432ca2d8a",
        "colab": {
          "base_uri": "https://localhost:8080/",
          "height": 35
        }
      },
      "source": [
        "\"\"\"\n",
        "Understand that __XXX___ are built in names\n",
        "When we define ourselves, it means we are overriding defaults\n",
        "\"\"\""
      ],
      "execution_count": 0,
      "outputs": [
        {
          "output_type": "execute_result",
          "data": {
            "text/plain": [
              "'\\nUnderstand that __XXX___ are built in names\\nWhen we define ourselves, it means we are overriding defaults\\n'"
            ]
          },
          "metadata": {
            "tags": []
          },
          "execution_count": 26
        }
      ]
    },
    {
      "cell_type": "markdown",
      "metadata": {
        "id": "IwfyI7Dv41KU",
        "colab_type": "text"
      },
      "source": [
        "self in this case refers to an instance of the class. Will auto take up value when defined by user"
      ]
    },
    {
      "cell_type": "code",
      "metadata": {
        "id": "vMfBnrOZ5Y5T",
        "colab_type": "code",
        "colab": {}
      },
      "source": [
        "origin = Coordinate(0,0)"
      ],
      "execution_count": 0,
      "outputs": []
    },
    {
      "cell_type": "code",
      "metadata": {
        "id": "Aw_0tEym5cj_",
        "colab_type": "code",
        "outputId": "e46bad57-f457-44cb-f45d-1c49e26d55a9",
        "colab": {
          "base_uri": "https://localhost:8080/",
          "height": 35
        }
      },
      "source": [
        "origin.x"
      ],
      "execution_count": 0,
      "outputs": [
        {
          "output_type": "execute_result",
          "data": {
            "text/plain": [
              "0"
            ]
          },
          "metadata": {
            "tags": []
          },
          "execution_count": 28
        }
      ]
    },
    {
      "cell_type": "code",
      "metadata": {
        "id": "POrz0QDN5eMV",
        "colab_type": "code",
        "colab": {}
      },
      "source": [
        "p = Coordinate(3,2)"
      ],
      "execution_count": 0,
      "outputs": []
    },
    {
      "cell_type": "code",
      "metadata": {
        "id": "3x729cY97EKt",
        "colab_type": "code",
        "outputId": "d292b407-2390-43fe-98ff-cf8383145433",
        "colab": {
          "base_uri": "https://localhost:8080/",
          "height": 35
        }
      },
      "source": [
        "origin.distance(p)"
      ],
      "execution_count": 0,
      "outputs": [
        {
          "output_type": "execute_result",
          "data": {
            "text/plain": [
              "3.605551275463989"
            ]
          },
          "metadata": {
            "tags": []
          },
          "execution_count": 30
        }
      ]
    },
    {
      "cell_type": "code",
      "metadata": {
        "id": "xqe_KO157L4X",
        "colab_type": "code",
        "outputId": "abf54e33-8c7f-4975-dbbd-a0ce7d941717",
        "colab": {
          "base_uri": "https://localhost:8080/",
          "height": 35
        }
      },
      "source": [
        "print(p)"
      ],
      "execution_count": 0,
      "outputs": [
        {
          "output_type": "stream",
          "text": [
            "<3,2>\n"
          ],
          "name": "stdout"
        }
      ]
    },
    {
      "cell_type": "markdown",
      "metadata": {
        "id": "SqbH4qmKAiAQ",
        "colab_type": "text"
      },
      "source": [
        "you can check instance with isinstance. Built in to python"
      ]
    },
    {
      "cell_type": "code",
      "metadata": {
        "id": "uyx3r6yi--LH",
        "colab_type": "code",
        "outputId": "6ca45cb2-b772-4d0f-a277-9c5c5730963d",
        "colab": {
          "base_uri": "https://localhost:8080/",
          "height": 35
        }
      },
      "source": [
        "print(isinstance(p,Coordinate))"
      ],
      "execution_count": 0,
      "outputs": [
        {
          "output_type": "stream",
          "text": [
            "True\n"
          ],
          "name": "stdout"
        }
      ]
    },
    {
      "cell_type": "code",
      "metadata": {
        "id": "03tdw2b-AgdP",
        "colab_type": "code",
        "colab": {}
      },
      "source": [
        "c = Coordinate(5,7)"
      ],
      "execution_count": 0,
      "outputs": []
    },
    {
      "cell_type": "code",
      "metadata": {
        "id": "On21nSBABaXW",
        "colab_type": "code",
        "outputId": "f1872b1b-021b-4785-8f89-e96ca5988736",
        "colab": {
          "base_uri": "https://localhost:8080/",
          "height": 35
        }
      },
      "source": [
        "p-c"
      ],
      "execution_count": 0,
      "outputs": [
        {
          "output_type": "execute_result",
          "data": {
            "text/plain": [
              "<__main__.Coordinate at 0x7f960f5392b0>"
            ]
          },
          "metadata": {
            "tags": []
          },
          "execution_count": 34
        }
      ]
    },
    {
      "cell_type": "code",
      "metadata": {
        "id": "khl2_6eTB3eq",
        "colab_type": "code",
        "outputId": "a5dcde48-e86b-447b-8cdc-e2b92e28ec06",
        "colab": {
          "base_uri": "https://localhost:8080/",
          "height": 35
        }
      },
      "source": [
        "print(p-c)"
      ],
      "execution_count": 0,
      "outputs": [
        {
          "output_type": "stream",
          "text": [
            "<-2,-5>\n"
          ],
          "name": "stdout"
        }
      ]
    },
    {
      "cell_type": "code",
      "metadata": {
        "id": "7PdCz2lxCOLm",
        "colab_type": "code",
        "outputId": "bc6d232f-4e42-4cdd-cdf4-fa0c699be925",
        "colab": {
          "base_uri": "https://localhost:8080/",
          "height": 35
        }
      },
      "source": [
        "class Clock(object):\n",
        "    def __init__(self, time):\n",
        "\t    self.time = time\n",
        "    def print_time(self):\n",
        "      time = '6:30'\n",
        "      print(self.time)\n",
        "\n",
        "clock = Clock('5:30')\n",
        "clock.print_time()\n",
        "#cuz time was not assigned to self"
      ],
      "execution_count": 0,
      "outputs": [
        {
          "output_type": "stream",
          "text": [
            "5:30\n"
          ],
          "name": "stdout"
        }
      ]
    },
    {
      "cell_type": "code",
      "metadata": {
        "id": "5PSQLYHwCr3w",
        "colab_type": "code",
        "outputId": "7abf6b98-e4e9-469c-ca23-88a562d33b23",
        "colab": {
          "base_uri": "https://localhost:8080/",
          "height": 35
        }
      },
      "source": [
        "class Clock(object):\n",
        "    def __init__(self, time):\n",
        "        self.time = time\n",
        "    def print_time(self):\n",
        "        print(self.time)\n",
        "\n",
        "boston_clock = Clock('5:30')\n",
        "paris_clock = boston_clock\n",
        "paris_clock.time = '10:30'\n",
        "boston_clock.print_time()\n",
        "#paris_clock and boston_clock is the same object"
      ],
      "execution_count": 0,
      "outputs": [
        {
          "output_type": "stream",
          "text": [
            "10:30\n"
          ],
          "name": "stdout"
        }
      ]
    },
    {
      "cell_type": "code",
      "metadata": {
        "id": "YzmISzQVDX86",
        "colab_type": "code",
        "colab": {}
      },
      "source": [
        "class Wild(object):\n",
        "    def __init__(self, x, y): \n",
        "        self.y = y\n",
        "        self.x = x\n",
        "    def getX(self):\n",
        "        return self.x \n",
        "    def getY(self):\n",
        "        return self.y\n",
        "\n",
        "X = 7\n",
        "Y = 8"
      ],
      "execution_count": 0,
      "outputs": []
    },
    {
      "cell_type": "code",
      "metadata": {
        "id": "O44f2d661uG7",
        "colab_type": "code",
        "colab": {
          "base_uri": "https://localhost:8080/",
          "height": 34
        },
        "outputId": "7e7f9a5b-198f-45a7-a64b-81d0fb7821ff"
      },
      "source": [
        "w2 = Wild(X, Y)\n",
        "print(w2.getX())"
      ],
      "execution_count": 4,
      "outputs": [
        {
          "output_type": "stream",
          "text": [
            "7\n"
          ],
          "name": "stdout"
        }
      ]
    },
    {
      "cell_type": "code",
      "metadata": {
        "id": "9sYdy7hw2zlP",
        "colab_type": "code",
        "colab": {}
      },
      "source": [
        "X=X+2"
      ],
      "execution_count": 0,
      "outputs": []
    },
    {
      "cell_type": "markdown",
      "metadata": {
        "id": "sEnLbONP260V",
        "colab_type": "text"
      },
      "source": [
        "Note, once the class executed, it will not update the inputs. "
      ]
    },
    {
      "cell_type": "code",
      "metadata": {
        "id": "hHLO9_xB22Sd",
        "colab_type": "code",
        "colab": {
          "base_uri": "https://localhost:8080/",
          "height": 34
        },
        "outputId": "c3b7b980-0e00-4b83-9f20-6d5c971bd40b"
      },
      "source": [
        "print(w2.getX())"
      ],
      "execution_count": 6,
      "outputs": [
        {
          "output_type": "stream",
          "text": [
            "7\n"
          ],
          "name": "stdout"
        }
      ]
    },
    {
      "cell_type": "markdown",
      "metadata": {
        "id": "K9cEp1cs32rW",
        "colab_type": "text"
      },
      "source": [
        "<br>"
      ]
    },
    {
      "cell_type": "markdown",
      "metadata": {
        "id": "UOqXV8ZW340r",
        "colab_type": "text"
      },
      "source": [
        "Practice"
      ]
    },
    {
      "cell_type": "code",
      "metadata": {
        "id": "ovMsY21k30iS",
        "colab_type": "code",
        "colab": {}
      },
      "source": [
        "class fraction(object):\n",
        "  def __init__(self,numerator,denominator):\n",
        "    self.numerator = numerator\n",
        "    self.denominator = denominator\n",
        "  def __str__(self):\n",
        "    return str(self.numerator)+ '/'+ str(self.denominator)\n",
        "  #getter\n",
        "  def getNumerator(self):\n",
        "    return self.numerator\n",
        "  def getDenominator(self):\n",
        "    return self.denominator\n",
        "  #__add__ is the default call for +\n",
        "  def __add__(self,other):\n",
        "    numerator_new = (self.numerator*other.denominator+self.denominator*other.numerator)\n",
        "    denominator_new = (self.denominator*other.denominator)\n",
        "    return fraction(numerator_new,denominator_new)\n",
        "    "
      ],
      "execution_count": 0,
      "outputs": []
    },
    {
      "cell_type": "code",
      "metadata": {
        "id": "UeNagdfA4V6J",
        "colab_type": "code",
        "colab": {}
      },
      "source": [
        "x=fraction(3,4)\n",
        "y=fraction(5,6)"
      ],
      "execution_count": 0,
      "outputs": []
    },
    {
      "cell_type": "code",
      "metadata": {
        "id": "CGHX8fuN4ZNS",
        "colab_type": "code",
        "colab": {
          "base_uri": "https://localhost:8080/",
          "height": 34
        },
        "outputId": "ad44d533-9e86-45d5-e27c-cc67f3e90758"
      },
      "source": [
        "print(x+y)"
      ],
      "execution_count": 18,
      "outputs": [
        {
          "output_type": "stream",
          "text": [
            "38/24\n"
          ],
          "name": "stdout"
        }
      ]
    },
    {
      "cell_type": "markdown",
      "metadata": {
        "id": "ZAAhF1-M7zJ6",
        "colab_type": "text"
      },
      "source": [
        "<br>\n",
        "another practice"
      ]
    },
    {
      "cell_type": "code",
      "metadata": {
        "id": "qVEV1fg36szJ",
        "colab_type": "code",
        "colab": {}
      },
      "source": [
        "class intSet(object):\n",
        "  def __init__(self):\n",
        "    self.vals = []\n",
        "  def insert(self,e):\n",
        "    if not e in self.vals:\n",
        "      self.vals.append(e)\n",
        "  def member(self,e):\n",
        "    return e in self.vals\n",
        "  def remove(self,e):\n",
        "    try:\n",
        "      self.vals.remove(e)\n",
        "    except:\n",
        "      raise ValueError(e,\" not found\")\n",
        "  def __str__(self):\n",
        "      self.vals.sort()\n",
        "      \n",
        "      result = ''\n",
        "      for e in self.vals:\n",
        "        result = result + str(e) + ', '\n",
        "      return '{ '+ result+' }'   "
      ],
      "execution_count": 0,
      "outputs": []
    },
    {
      "cell_type": "code",
      "metadata": {
        "id": "gRe3pGsV9GIo",
        "colab_type": "code",
        "colab": {}
      },
      "source": [
        "s=intSet()"
      ],
      "execution_count": 0,
      "outputs": []
    },
    {
      "cell_type": "code",
      "metadata": {
        "id": "EvmHS_C89Wb3",
        "colab_type": "code",
        "colab": {}
      },
      "source": [
        "s.insert(3)"
      ],
      "execution_count": 0,
      "outputs": []
    },
    {
      "cell_type": "code",
      "metadata": {
        "id": "Ok_aayfm-Qi9",
        "colab_type": "code",
        "colab": {
          "base_uri": "https://localhost:8080/",
          "height": 34
        },
        "outputId": "8a1b89eb-8d7a-4f39-966f-64de0c406280"
      },
      "source": [
        "s.member(3)"
      ],
      "execution_count": 55,
      "outputs": [
        {
          "output_type": "execute_result",
          "data": {
            "text/plain": [
              "True"
            ]
          },
          "metadata": {
            "tags": []
          },
          "execution_count": 55
        }
      ]
    },
    {
      "cell_type": "code",
      "metadata": {
        "id": "6tWTRsE29Yae",
        "colab_type": "code",
        "colab": {
          "base_uri": "https://localhost:8080/",
          "height": 34
        },
        "outputId": "83741a26-8356-4396-d2d4-0b90bf0a143f"
      },
      "source": [
        "print(s)"
      ],
      "execution_count": 56,
      "outputs": [
        {
          "output_type": "stream",
          "text": [
            "{ 3,  }\n"
          ],
          "name": "stdout"
        }
      ]
    },
    {
      "cell_type": "markdown",
      "metadata": {
        "id": "c0oXOtOoAePw",
        "colab_type": "text"
      },
      "source": [
        "<br>\n",
        "case problem"
      ]
    },
    {
      "cell_type": "code",
      "metadata": {
        "id": "jX9QdDCQ9-fx",
        "colab_type": "code",
        "colab": {}
      },
      "source": [
        "class Coordinate(object):\n",
        "    def __init__(self,x,y):\n",
        "        self.x = x\n",
        "        self.y = y\n",
        "\n",
        "    def getX(self):\n",
        "        # Getter method for a Coordinate object's x coordinate.\n",
        "        # Getter methods are better practice than just accessing an attribute directly\n",
        "        return self.x\n",
        "\n",
        "    def getY(self):\n",
        "        # Getter method for a Coordinate object's y coordinate\n",
        "        return self.y\n",
        "\n",
        "    def __str__(self):\n",
        "        return '<' + str(self.getX()) + ',' + str(self.getY()) + '>'\n",
        "\n",
        "    def __eq__(self,other):\n",
        "      if self.x == other.x and self.y == other.y:\n",
        "        return True\n",
        "      else:\n",
        "        return False\n",
        "    def __repr__(self):\n",
        "      return \"Coordinate({},{})\".format(self.x,self.y)"
      ],
      "execution_count": 0,
      "outputs": []
    },
    {
      "cell_type": "code",
      "metadata": {
        "id": "xI-kjvCxDAQ3",
        "colab_type": "code",
        "colab": {}
      },
      "source": [
        "a = Coordinate(1,-8)\n",
        "b = Coordinate(1,-8)"
      ],
      "execution_count": 0,
      "outputs": []
    },
    {
      "cell_type": "code",
      "metadata": {
        "id": "s179CpPRDITP",
        "colab_type": "code",
        "colab": {
          "base_uri": "https://localhost:8080/",
          "height": 34
        },
        "outputId": "dd4a21b3-f4d2-4ae0-a1d3-94d37193994a"
      },
      "source": [
        "print(a==b)"
      ],
      "execution_count": 64,
      "outputs": [
        {
          "output_type": "stream",
          "text": [
            "True\n"
          ],
          "name": "stdout"
        }
      ]
    },
    {
      "cell_type": "code",
      "metadata": {
        "id": "EWMQM9XEDI_O",
        "colab_type": "code",
        "colab": {
          "base_uri": "https://localhost:8080/",
          "height": 34
        },
        "outputId": "93cb325f-ff8b-4cc2-c629-c000b6e64878"
      },
      "source": [
        "print(repr(a))"
      ],
      "execution_count": 65,
      "outputs": [
        {
          "output_type": "stream",
          "text": [
            "Coordinate(1,-8)\n"
          ],
          "name": "stdout"
        }
      ]
    },
    {
      "cell_type": "markdown",
      "metadata": {
        "id": "mnYLRudeD69q",
        "colab_type": "text"
      },
      "source": [
        "<br>\n"
      ]
    },
    {
      "cell_type": "code",
      "metadata": {
        "id": "Yc4QLbZfDlKH",
        "colab_type": "code",
        "colab": {}
      },
      "source": [
        "class intSet(object):\n",
        "\n",
        "    def __init__(self):\n",
        "        self.vals = []\n",
        "\n",
        "    def insert(self, e):\n",
        "        if not e in self.vals:\n",
        "            self.vals.append(e)\n",
        "\n",
        "    def member(self, e):\n",
        "        return e in self.vals\n",
        "\n",
        "    def remove(self, e):\n",
        "        try:\n",
        "            self.vals.remove(e)\n",
        "        except:\n",
        "            raise ValueError(str(e) + ' not found')\n",
        "\n",
        "    def __str__(self):\n",
        "        self.vals.sort()\n",
        "        return '{' + ','.join([str(e) for e in self.vals]) + '}'\n",
        "    \n",
        "    def intersect(self,other):\n",
        "      newSet = intSet()\n",
        "      for i in self.vals:\n",
        "        if i in other.vals:\n",
        "          newSet.insert(i)\n",
        "      return newSet\n",
        "    def __len__(self):\n",
        "      counter = 0\n",
        "      for i in self.vals:\n",
        "        counter +=1\n",
        "      return counter\n"
      ],
      "execution_count": 0,
      "outputs": []
    },
    {
      "cell_type": "code",
      "metadata": {
        "id": "aguyl-v5FUe1",
        "colab_type": "code",
        "colab": {}
      },
      "source": [
        ""
      ],
      "execution_count": 0,
      "outputs": []
    }
  ]
}
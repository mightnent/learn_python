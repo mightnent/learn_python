{
  "nbformat": 4,
  "nbformat_minor": 0,
  "metadata": {
    "colab": {
      "name": "EDX_PY1_Notes.ipynb",
      "version": "0.3.2",
      "provenance": [],
      "collapsed_sections": [],
      "include_colab_link": true
    },
    "kernelspec": {
      "name": "python3",
      "display_name": "Python 3"
    }
  },
  "cells": [
    {
      "cell_type": "markdown",
      "metadata": {
        "id": "view-in-github",
        "colab_type": "text"
      },
      "source": [
        "<a href=\"https://colab.research.google.com/github/mightnent/learn_python/blob/master/EDX_PY1_Notes.ipynb\" target=\"_parent\"><img src=\"https://colab.research.google.com/assets/colab-badge.svg\" alt=\"Open In Colab\"/></a>"
      ]
    },
    {
      "cell_type": "markdown",
      "metadata": {
        "id": "zIE-zFVNt-x8",
        "colab_type": "text"
      },
      "source": [
        "**Declarative Knowledge**\n",
        "is a statment of fact\n",
        "\n",
        "**Imperative Knowledge**\n",
        "is a recipe of how to compute\n",
        "\n",
        "*An Algo is essentially just steps, flow control and when to stop*"
      ]
    },
    {
      "cell_type": "markdown",
      "metadata": {
        "id": "YHYB1-12x6ml",
        "colab_type": "text"
      },
      "source": [
        "One only needs 6 essential properties to program anything. \n",
        "Move left, right, scan,read,write, do nothing. \n",
        "\n",
        "Side note: all languages are turing complete, so don't worry too much on which language to learn."
      ]
    },
    {
      "cell_type": "markdown",
      "metadata": {
        "id": "iZTce0m1yTmU",
        "colab_type": "text"
      },
      "source": [
        "Different kind of errors:\n",
        "**Syntatic**: Easy to catch.\n",
        "\n",
        "**Static semantic errors**: Logic has problem\n",
        "\n",
        "**No semantic error**: Syntax and semantics are correct, but it means different things than intended. "
      ]
    },
    {
      "cell_type": "markdown",
      "metadata": {
        "id": "kDc48AcH0bEc",
        "colab_type": "text"
      },
      "source": [
        "**Objects**: they have a \"type\", must be followed.\n",
        "\n",
        "Could be scalar(cannot subdivide) or non-scalar(have internal accessible structures)"
      ]
    },
    {
      "cell_type": "markdown",
      "metadata": {
        "id": "-DOFFsWe0sk2",
        "colab_type": "text"
      },
      "source": [
        "**Scaler in python**:\n",
        "\n",
        "\n",
        "*   int\n",
        "\n",
        "*   float\n",
        "*   bool\n",
        "\n",
        "\n",
        "*   NoneType\n",
        "\n",
        "\n",
        "\n"
      ]
    },
    {
      "cell_type": "markdown",
      "metadata": {
        "id": "qly4qksz1Ute",
        "colab_type": "text"
      },
      "source": [
        "some special operations to take note:\n",
        "\n",
        "i/j -> float\n",
        "\n",
        "i//j ->int, quotient without remainder"
      ]
    },
    {
      "cell_type": "code",
      "metadata": {
        "id": "38JWwfvR2I9A",
        "colab_type": "code",
        "outputId": "8d4cc2f7-eb53-421b-998c-49c3dd4efee4",
        "colab": {
          "base_uri": "https://localhost:8080/",
          "height": 34
        }
      },
      "source": [
        "5//2"
      ],
      "execution_count": 0,
      "outputs": [
        {
          "output_type": "execute_result",
          "data": {
            "text/plain": [
              "2"
            ]
          },
          "metadata": {
            "tags": []
          },
          "execution_count": 1
        }
      ]
    },
    {
      "cell_type": "code",
      "metadata": {
        "id": "tWpha0BECXMg",
        "colab_type": "code",
        "outputId": "7b54703f-04fa-48b5-cd67-e691243d9851",
        "colab": {
          "base_uri": "https://localhost:8080/",
          "height": 34
        }
      },
      "source": [
        "4 > 5 or 3 < 4 and 9 > 8"
      ],
      "execution_count": 0,
      "outputs": [
        {
          "output_type": "execute_result",
          "data": {
            "text/plain": [
              "True"
            ]
          },
          "metadata": {
            "tags": []
          },
          "execution_count": 4
        }
      ]
    },
    {
      "cell_type": "code",
      "metadata": {
        "id": "eaNS7ASZCXoZ",
        "colab_type": "code",
        "outputId": "e1b8b986-445b-48a8-8701-d81aea12673c",
        "colab": {
          "base_uri": "https://localhost:8080/",
          "height": 34
        }
      },
      "source": [
        "5/2 == 5.0/2.0"
      ],
      "execution_count": 0,
      "outputs": [
        {
          "output_type": "execute_result",
          "data": {
            "text/plain": [
              "True"
            ]
          },
          "metadata": {
            "tags": []
          },
          "execution_count": 5
        }
      ]
    },
    {
      "cell_type": "markdown",
      "metadata": {
        "id": "Fnd_h_KHQHmM",
        "colab_type": "text"
      },
      "source": [
        "**Using input to take user input**\n",
        "\n",
        "note: All inputs are in str, so need type conversion after that. "
      ]
    },
    {
      "cell_type": "code",
      "metadata": {
        "id": "aWZPerfzb2Vn",
        "colab_type": "code",
        "outputId": "3d8a4688-9824-4f19-ad80-1ee53483c2bf",
        "colab": {
          "base_uri": "https://localhost:8080/",
          "height": 51
        }
      },
      "source": [
        "Text = input(\"Type Something...\")\n",
        "print(Text)"
      ],
      "execution_count": 0,
      "outputs": [
        {
          "output_type": "stream",
          "text": [
            "Type Something...hi\n",
            "hi\n"
          ],
          "name": "stdout"
        }
      ]
    },
    {
      "cell_type": "code",
      "metadata": {
        "id": "yQV8y7G8QVld",
        "colab_type": "code",
        "outputId": "e76deade-70c3-4b76-c965-888407716516",
        "colab": {
          "base_uri": "https://localhost:8080/",
          "height": 51
        }
      },
      "source": [
        "#conversion\n",
        "num = int(input(\"number pls...\"))\n",
        "print(\"number is \",num)"
      ],
      "execution_count": 0,
      "outputs": [
        {
          "output_type": "stream",
          "text": [
            "number pls...5\n",
            "number is  5\n"
          ],
          "name": "stdout"
        }
      ]
    },
    {
      "cell_type": "markdown",
      "metadata": {
        "id": "Aq0e2xnqfyvt",
        "colab_type": "text"
      },
      "source": [
        "**Loops**\n",
        "\n",
        "Very interesting that you can actually break both for and while loops in python. \n",
        "\n",
        "Note: you can write for loops into while loop but may not be able to write while loops into for loops.\n",
        "\n",
        "unlike conditinal branching program (constant time), loops use variable time"
      ]
    },
    {
      "cell_type": "markdown",
      "metadata": {
        "id": "6MZZYf-EIPMa",
        "colab_type": "text"
      },
      "source": [
        "**Iterations**\n",
        "\n",
        "start with test, evaluate True, then repeat until false"
      ]
    },
    {
      "cell_type": "code",
      "metadata": {
        "id": "2Im0q1W4fyDn",
        "colab_type": "code",
        "outputId": "9f16c0e2-1a49-418f-b5a4-202055f064d1",
        "colab": {
          "base_uri": "https://localhost:8080/",
          "height": 34
        }
      },
      "source": [
        "#eg, to square a value by addition\n",
        "x=3\n",
        "ans = 0\n",
        "step = x\n",
        "\n",
        "while(step!=0):\n",
        "  ans +=x\n",
        "  step -= 1\n",
        "print(ans)"
      ],
      "execution_count": 0,
      "outputs": [
        {
          "output_type": "stream",
          "text": [
            "9\n"
          ],
          "name": "stdout"
        }
      ]
    },
    {
      "cell_type": "code",
      "metadata": {
        "id": "xkwtr_lRhFyn",
        "colab_type": "code",
        "outputId": "d5c0d0c7-23ec-4279-c432-e9dc3224b4c9",
        "colab": {
          "base_uri": "https://localhost:8080/",
          "height": 86
        }
      },
      "source": [
        "#for string\n",
        "for i in 'hola':\n",
        "  print(i)"
      ],
      "execution_count": 0,
      "outputs": [
        {
          "output_type": "stream",
          "text": [
            "h\n",
            "o\n",
            "l\n",
            "a\n"
          ],
          "name": "stdout"
        }
      ]
    },
    {
      "cell_type": "markdown",
      "metadata": {
        "id": "l62Rpl0ajnt_",
        "colab_type": "text"
      },
      "source": [
        "**Some tricky loops**"
      ]
    },
    {
      "cell_type": "code",
      "metadata": {
        "id": "beQ5k8gphiaS",
        "colab_type": "code",
        "outputId": "006c28f8-6d63-488d-9c4b-7e5dc86f15aa",
        "colab": {
          "base_uri": "https://localhost:8080/",
          "height": 51
        }
      },
      "source": [
        "count = 0\n",
        "for letter in 'Snow!':\n",
        "    print('Letter # ' + str(count) + ' is ' + str(letter))\n",
        "    count += 1\n",
        "    break\n",
        "print(count)"
      ],
      "execution_count": 0,
      "outputs": [
        {
          "output_type": "stream",
          "text": [
            "Letter # 0 is S\n",
            "1\n"
          ],
          "name": "stdout"
        }
      ]
    },
    {
      "cell_type": "code",
      "metadata": {
        "id": "52Nk10tvjHRD",
        "colab_type": "code",
        "outputId": "242299b0-1042-4d56-a17c-6e37d965c1d6",
        "colab": {
          "base_uri": "https://localhost:8080/",
          "height": 120
        }
      },
      "source": [
        "i = 10\n",
        "for i in range(5):\n",
        "    print(i)\n",
        "print(i)"
      ],
      "execution_count": 0,
      "outputs": [
        {
          "output_type": "stream",
          "text": [
            "0\n",
            "1\n",
            "2\n",
            "3\n",
            "4\n",
            "4\n"
          ],
          "name": "stdout"
        }
      ]
    },
    {
      "cell_type": "code",
      "metadata": {
        "id": "eHh-4T55jU0B",
        "colab_type": "code",
        "outputId": "d048e4ca-7389-4dce-f875-72ff8ad14d91",
        "colab": {
          "base_uri": "https://localhost:8080/",
          "height": 103
        }
      },
      "source": [
        "divisor = 2\n",
        "for num in range(0, 10, 2):\n",
        "    print(num/divisor) "
      ],
      "execution_count": 0,
      "outputs": [
        {
          "output_type": "stream",
          "text": [
            "0.0\n",
            "1.0\n",
            "2.0\n",
            "3.0\n",
            "4.0\n"
          ],
          "name": "stdout"
        }
      ]
    },
    {
      "cell_type": "code",
      "metadata": {
        "id": "xSSvFNOxjrXx",
        "colab_type": "code",
        "outputId": "7b657985-7640-4774-f043-f36d26c56427",
        "colab": {
          "base_uri": "https://localhost:8080/",
          "height": 137
        }
      },
      "source": [
        "for variable in range(20):\n",
        "    if variable % 4 == 0:\n",
        "        print(variable)\n",
        "    if variable % 16 == 0:\n",
        "        print('Foo!') "
      ],
      "execution_count": 0,
      "outputs": [
        {
          "output_type": "stream",
          "text": [
            "0\n",
            "Foo!\n",
            "4\n",
            "8\n",
            "12\n",
            "16\n",
            "Foo!\n"
          ],
          "name": "stdout"
        }
      ]
    },
    {
      "cell_type": "code",
      "metadata": {
        "id": "sY4rhOghj-cx",
        "colab_type": "code",
        "outputId": "fdbcdbcf-3e5d-461e-afcc-07b0973b5f29",
        "colab": {
          "base_uri": "https://localhost:8080/",
          "height": 69
        }
      },
      "source": [
        "school = 'Massachusetts Institute of Technology'\n",
        "numVowels = 0\n",
        "numCons = 0\n",
        "\n",
        "for char in school:\n",
        "    if char == 'a' or char == 'e' or char == 'i' \\\n",
        "       or char == 'o' or char == 'u':\n",
        "        numVowels += 1\n",
        "    elif char == 'o' or char == 'M':\n",
        "        print(char)\n",
        "    else:\n",
        "        numCons -= 1\n",
        "        \n",
        "print('numVowels is: ' + str(numVowels))\n",
        "print('numCons is: ' + str(numCons)) "
      ],
      "execution_count": 0,
      "outputs": [
        {
          "output_type": "stream",
          "text": [
            "M\n",
            "numVowels is: 11\n",
            "numCons is: -25\n"
          ],
          "name": "stdout"
        }
      ]
    },
    {
      "cell_type": "markdown",
      "metadata": {
        "id": "rQOUnYk9pOwU",
        "colab_type": "text"
      },
      "source": [
        "**2 interesting while and for loop structure to get cube roots**"
      ]
    },
    {
      "cell_type": "code",
      "metadata": {
        "id": "SMYOfuoem1O6",
        "colab_type": "code",
        "outputId": "62a48b52-c169-40b6-fa20-07fc94fa32bc",
        "colab": {
          "base_uri": "https://localhost:8080/",
          "height": 34
        }
      },
      "source": [
        "#while loop\n",
        "\n",
        "num = 27\n",
        "ans = 0\n",
        "while ans**3 < num:\n",
        "  ans+= 1\n",
        "if ans**3 != num:\n",
        "  print(\"does not exist\")\n",
        "else:\n",
        "  print(ans)"
      ],
      "execution_count": 0,
      "outputs": [
        {
          "output_type": "stream",
          "text": [
            "3\n"
          ],
          "name": "stdout"
        }
      ]
    },
    {
      "cell_type": "code",
      "metadata": {
        "id": "ON_JHQrUpzcA",
        "colab_type": "code",
        "outputId": "dbbc6919-db51-4809-f0ce-3efc3dd561c9",
        "colab": {
          "base_uri": "https://localhost:8080/",
          "height": 34
        }
      },
      "source": [
        "# for loop\n",
        "num = 27\n",
        "\n",
        "for i in range(num+1):\n",
        "  if i**3 == num:\n",
        "    print(i)"
      ],
      "execution_count": 0,
      "outputs": [
        {
          "output_type": "stream",
          "text": [
            "3\n"
          ],
          "name": "stdout"
        }
      ]
    },
    {
      "cell_type": "code",
      "metadata": {
        "id": "dANriijcAZM7",
        "colab_type": "code",
        "outputId": "5dfe24ea-96a4-44aa-c2c9-87036c6cae53",
        "colab": {
          "base_uri": "https://localhost:8080/",
          "height": 34
        }
      },
      "source": [
        "#can use slices to compare words in str\n",
        "s = 'abzdcfbobobbobegghakl'\n",
        "i=0\n",
        "ans = 0\n",
        "for letter in s:\n",
        "  if s[i:i+3]=='bob':\n",
        "    ans +=1\n",
        "  i+=1\n",
        "print(ans)"
      ],
      "execution_count": 0,
      "outputs": [
        {
          "output_type": "stream",
          "text": [
            "3\n"
          ],
          "name": "stdout"
        }
      ]
    },
    {
      "cell_type": "code",
      "metadata": {
        "id": "ypl9gyD8IKHN",
        "colab_type": "code",
        "colab": {}
      },
      "source": [
        ""
      ],
      "execution_count": 0,
      "outputs": []
    }
  ]
}
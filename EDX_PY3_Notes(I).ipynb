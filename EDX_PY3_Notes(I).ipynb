{
  "nbformat": 4,
  "nbformat_minor": 0,
  "metadata": {
    "colab": {
      "name": "EDX_PY3_Notes(I).ipynb",
      "provenance": [],
      "collapsed_sections": [],
      "include_colab_link": true
    },
    "kernelspec": {
      "name": "python3",
      "display_name": "Python 3"
    }
  },
  "cells": [
    {
      "cell_type": "markdown",
      "metadata": {
        "id": "view-in-github",
        "colab_type": "text"
      },
      "source": [
        "<a href=\"https://colab.research.google.com/github/mightnent/learn_python/blob/MITx-6.00.1x/EDX_PY3_Notes(I).ipynb\" target=\"_parent\"><img src=\"https://colab.research.google.com/assets/colab-badge.svg\" alt=\"Open In Colab\"/></a>"
      ]
    },
    {
      "cell_type": "markdown",
      "metadata": {
        "id": "Ot9cjh01Qh_b",
        "colab_type": "text"
      },
      "source": [
        "# Data Structure"
      ]
    },
    {
      "cell_type": "markdown",
      "metadata": {
        "id": "jjvtO_iiQm3p",
        "colab_type": "text"
      },
      "source": [
        "## **Tuples**\n",
        "\n",
        "immutable\n",
        "\n",
        "represented by ( )\n",
        "\n",
        "When you declare tuple you use ( ), but when you index, it's still [ ]\n",
        "\n",
        "Tuples needs commas: \n",
        "\n",
        "(1,) is a tuple and (1) is not"
      ]
    },
    {
      "cell_type": "code",
      "metadata": {
        "id": "7ggV1NsNQPLm",
        "colab_type": "code",
        "outputId": "84958630-5750-4ab4-ad7f-d8e7a095b6dc",
        "colab": {
          "base_uri": "https://localhost:8080/",
          "height": 34
        }
      },
      "source": [
        "t = (1,2,3)\n",
        "print(t[0])"
      ],
      "execution_count": 0,
      "outputs": [
        {
          "output_type": "stream",
          "text": [
            "1\n"
          ],
          "name": "stdout"
        }
      ]
    },
    {
      "cell_type": "markdown",
      "metadata": {
        "id": "H170RmMARbEt",
        "colab_type": "text"
      },
      "source": [
        "you can add to a tuple by simply using +\n",
        "\n",
        "however you cannot reassign"
      ]
    },
    {
      "cell_type": "code",
      "metadata": {
        "id": "9i3YXxhIRDnM",
        "colab_type": "code",
        "outputId": "9e7ff77f-29a0-4d2b-aa54-dbf6b0628138",
        "colab": {
          "base_uri": "https://localhost:8080/",
          "height": 34
        }
      },
      "source": [
        "t = t+ (5,6,7)\n",
        "print(t)"
      ],
      "execution_count": 0,
      "outputs": [
        {
          "output_type": "stream",
          "text": [
            "(1, 2, 3, 5, 6, 7)\n"
          ],
          "name": "stdout"
        }
      ]
    },
    {
      "cell_type": "code",
      "metadata": {
        "id": "9TUNQ5OSRmY7",
        "colab_type": "code",
        "colab": {}
      },
      "source": [
        "#this does not work. \n",
        "t[0]=9"
      ],
      "execution_count": 0,
      "outputs": []
    },
    {
      "cell_type": "markdown",
      "metadata": {
        "id": "xZoX--YZSqLU",
        "colab_type": "text"
      },
      "source": [
        "**Useful properties of tutples**"
      ]
    },
    {
      "cell_type": "code",
      "metadata": {
        "id": "Ke9ukXk-Swl5",
        "colab_type": "code",
        "colab": {}
      },
      "source": [
        "#easily sway values\n",
        "(x,y) = (y,x)"
      ],
      "execution_count": 0,
      "outputs": []
    },
    {
      "cell_type": "code",
      "metadata": {
        "id": "3fmXPBvwS3GP",
        "colab_type": "code",
        "colab": {}
      },
      "source": [
        "#returning multiple values, although hacky\n",
        "def quotient_and_remainder(x,y):\n",
        "  q = x//y\n",
        "  r = x%y\n",
        "  return (q,r)\n",
        "(quotient,remainder) = quotient_and_remainder(20,3)"
      ],
      "execution_count": 0,
      "outputs": []
    },
    {
      "cell_type": "code",
      "metadata": {
        "id": "uCfh5-0sVYi9",
        "colab_type": "code",
        "outputId": "5e3e3111-d46b-4ca6-9ed3-2a6d2a392686",
        "colab": {
          "base_uri": "https://localhost:8080/",
          "height": 35
        }
      },
      "source": [
        "#manipulating more tuples\n",
        "def getData(aTuple):\n",
        "  nums = ()\n",
        "  words = ()\n",
        "  for t in aTuple:\n",
        "    nums = nums + (t[0],)\n",
        "    if t[1] not in words:\n",
        "      words = words + (t[1],)\n",
        "  min_num = min(nums)\n",
        "  unique_words = len(words)\n",
        "  return (min_num,unique_words)\n",
        "\n",
        "print(getData(((1,'one'),(3,'eyes'),(3,'3'))))"
      ],
      "execution_count": 0,
      "outputs": [
        {
          "output_type": "stream",
          "text": [
            "(1, 3)\n"
          ],
          "name": "stdout"
        }
      ]
    },
    {
      "cell_type": "code",
      "metadata": {
        "id": "EKQ1fwsGzQvc",
        "colab_type": "code",
        "outputId": "450e3698-ca13-4642-e31e-0e86a992914b",
        "colab": {
          "base_uri": "https://localhost:8080/",
          "height": 35
        }
      },
      "source": [
        "#more exercise\n",
        "def oddTuples(aTup):\n",
        "  newTup = ()\n",
        "  i=0\n",
        "  while(i<len(aTup)):\n",
        "    newTup = newTup + (aTup[i],)\n",
        "    i += 2\n",
        " \n",
        "    \n",
        "  return newTup\n",
        "\n",
        "print(oddTuples(('I', 'am', 'a', 'test', 'tuple')))"
      ],
      "execution_count": 0,
      "outputs": [
        {
          "output_type": "stream",
          "text": [
            "('I', 'a', 'tuple')\n"
          ],
          "name": "stdout"
        }
      ]
    },
    {
      "cell_type": "markdown",
      "metadata": {
        "id": "6L9Q9tfAyVzd",
        "colab_type": "text"
      },
      "source": [
        "<br>"
      ]
    },
    {
      "cell_type": "markdown",
      "metadata": {
        "id": "BQgKe78ZySaX",
        "colab_type": "text"
      },
      "source": [
        "## **List**\n",
        "\n",
        "key difference is mutable\n",
        "\n",
        "You can also add list with list. "
      ]
    },
    {
      "cell_type": "code",
      "metadata": {
        "id": "mEKBbKgN2pIs",
        "colab_type": "code",
        "outputId": "f59391d6-e175-41c9-f639-fc719f82e83c",
        "colab": {
          "base_uri": "https://localhost:8080/",
          "height": 34
        }
      },
      "source": [
        "L=[1,2,3,4]\n",
        "total = 0\n",
        "for i in L:\n",
        "  total += i\n",
        "print(total)"
      ],
      "execution_count": 0,
      "outputs": [
        {
          "output_type": "stream",
          "text": [
            "10\n"
          ],
          "name": "stdout"
        }
      ]
    },
    {
      "cell_type": "code",
      "metadata": {
        "id": "tS4Vg3cWzPTN",
        "colab_type": "code",
        "outputId": "22cd1fde-9a0b-41d9-f01e-3ea82937e4d7",
        "colab": {
          "base_uri": "https://localhost:8080/",
          "height": 34
        }
      },
      "source": [
        "L"
      ],
      "execution_count": 0,
      "outputs": [
        {
          "output_type": "execute_result",
          "data": {
            "text/plain": [
              "[1, 2, 3, 4]"
            ]
          },
          "metadata": {
            "tags": []
          },
          "execution_count": 8
        }
      ]
    },
    {
      "cell_type": "code",
      "metadata": {
        "id": "qgXAE6DQFAuz",
        "colab_type": "code",
        "outputId": "e658ad37-2e7b-4bfc-b42e-9ec02c4cc89f",
        "colab": {
          "base_uri": "https://localhost:8080/",
          "height": 34
        }
      },
      "source": [
        "#delete an element\n",
        "del(L[0])\n",
        "L"
      ],
      "execution_count": 0,
      "outputs": [
        {
          "output_type": "execute_result",
          "data": {
            "text/plain": [
              "[2, 3, 4]"
            ]
          },
          "metadata": {
            "tags": []
          },
          "execution_count": 9
        }
      ]
    },
    {
      "cell_type": "code",
      "metadata": {
        "id": "nsaXoHlIFKyN",
        "colab_type": "code",
        "outputId": "780ccf6f-e842-452a-b9f8-2aea0656eb88",
        "colab": {
          "base_uri": "https://localhost:8080/",
          "height": 34
        }
      },
      "source": [
        "#remove element, but will only remove first occurance of 2, in this case\n",
        "L.remove(2)\n",
        "L"
      ],
      "execution_count": 0,
      "outputs": [
        {
          "output_type": "execute_result",
          "data": {
            "text/plain": [
              "[3, 4]"
            ]
          },
          "metadata": {
            "tags": []
          },
          "execution_count": 10
        }
      ]
    },
    {
      "cell_type": "code",
      "metadata": {
        "id": "NPJnbtktFXZh",
        "colab_type": "code",
        "outputId": "4d1d1300-b926-42b0-efed-8a6593b3d8f5",
        "colab": {
          "base_uri": "https://localhost:8080/",
          "height": 34
        }
      },
      "source": [
        "#pop the last element, returns the removed element\n",
        "L.pop()"
      ],
      "execution_count": 0,
      "outputs": [
        {
          "output_type": "execute_result",
          "data": {
            "text/plain": [
              "4"
            ]
          },
          "metadata": {
            "tags": []
          },
          "execution_count": 11
        }
      ]
    },
    {
      "cell_type": "markdown",
      "metadata": {
        "id": "xqnw1DoT5gTp",
        "colab_type": "text"
      },
      "source": [
        "Note:\n",
        "\n",
        "del, remove and pop essentially do the same thing. \n",
        "\n",
        "pop(index) will also remove the element at the particular index"
      ]
    },
    {
      "cell_type": "code",
      "metadata": {
        "id": "KfkAw15xFfn3",
        "colab_type": "code",
        "outputId": "849d1293-e1a6-4520-a47a-4dd8eb30e79e",
        "colab": {
          "base_uri": "https://localhost:8080/",
          "height": 34
        }
      },
      "source": [
        "L"
      ],
      "execution_count": 0,
      "outputs": [
        {
          "output_type": "execute_result",
          "data": {
            "text/plain": [
              "[3]"
            ]
          },
          "metadata": {
            "tags": []
          },
          "execution_count": 12
        }
      ]
    },
    {
      "cell_type": "code",
      "metadata": {
        "id": "gICDTtMiFjrU",
        "colab_type": "code",
        "outputId": "cf5cf73c-c6c5-457b-c4ae-9feabcb6fcdd",
        "colab": {
          "base_uri": "https://localhost:8080/",
          "height": 34
        }
      },
      "source": [
        "#hacky way to break a string apart\n",
        "s = '123'\n",
        "list(s)"
      ],
      "execution_count": 0,
      "outputs": [
        {
          "output_type": "execute_result",
          "data": {
            "text/plain": [
              "['1', '2', '3']"
            ]
          },
          "metadata": {
            "tags": []
          },
          "execution_count": 13
        }
      ]
    },
    {
      "cell_type": "code",
      "metadata": {
        "id": "ZIkXIuL8F9m8",
        "colab_type": "code",
        "outputId": "19628d4a-00fa-4af0-91df-37ecb06fcd3d",
        "colab": {
          "base_uri": "https://localhost:8080/",
          "height": 34
        }
      },
      "source": [
        "#reversing the above : create string from list\n",
        "L1 = [\"1\",\"2\",\"3\"]\n",
        "\"\".join(L1)"
      ],
      "execution_count": 0,
      "outputs": [
        {
          "output_type": "execute_result",
          "data": {
            "text/plain": [
              "'123'"
            ]
          },
          "metadata": {
            "tags": []
          },
          "execution_count": 14
        }
      ]
    },
    {
      "cell_type": "code",
      "metadata": {
        "id": "W1D_7-RlHIGm",
        "colab_type": "code",
        "outputId": "f66831ec-b52d-4af5-da5e-930ad2c8875f",
        "colab": {
          "base_uri": "https://localhost:8080/",
          "height": 34
        }
      },
      "source": [
        "#join can also insert elements, after first list element starts\n",
        "\".\".join(L1)"
      ],
      "execution_count": 0,
      "outputs": [
        {
          "output_type": "execute_result",
          "data": {
            "text/plain": [
              "'1.2.3'"
            ]
          },
          "metadata": {
            "tags": []
          },
          "execution_count": 16
        }
      ]
    },
    {
      "cell_type": "code",
      "metadata": {
        "id": "qj_qBBoUGiwC",
        "colab_type": "code",
        "outputId": "19dcc9ad-417a-42f1-8c5c-e817a41d0954",
        "colab": {
          "base_uri": "https://localhost:8080/",
          "height": 34
        }
      },
      "source": [
        "#split up a string into list at specific points\n",
        "sentence = \"Although I still love her, it's over.\"\n",
        "sentence.split(\",\")"
      ],
      "execution_count": 0,
      "outputs": [
        {
          "output_type": "execute_result",
          "data": {
            "text/plain": [
              "['Although I still love her', \" it's over.\"]"
            ]
          },
          "metadata": {
            "tags": []
          },
          "execution_count": 15
        }
      ]
    },
    {
      "cell_type": "code",
      "metadata": {
        "id": "aL3xDa1RG-Sa",
        "colab_type": "code",
        "outputId": "6edfdc4d-ec79-432e-b501-d071c55dff5b",
        "colab": {
          "base_uri": "https://localhost:8080/",
          "height": 52
        }
      },
      "source": [
        "#sorting\n",
        "L2 = [5,7,33,9,2]\n",
        "#creating a new copy\n",
        "print(sorted(L2))\n",
        "L2\n"
      ],
      "execution_count": 0,
      "outputs": [
        {
          "output_type": "stream",
          "text": [
            "[2, 5, 7, 9, 33]\n"
          ],
          "name": "stdout"
        },
        {
          "output_type": "execute_result",
          "data": {
            "text/plain": [
              "[5, 7, 33, 9, 2]"
            ]
          },
          "metadata": {
            "tags": []
          },
          "execution_count": 21
        }
      ]
    },
    {
      "cell_type": "code",
      "metadata": {
        "id": "xn3Eq5ADHzeD",
        "colab_type": "code",
        "outputId": "cad755f4-ed6d-4d87-dbba-4c0387af7d92",
        "colab": {
          "base_uri": "https://localhost:8080/",
          "height": 34
        }
      },
      "source": [
        "#mutating L2 while sorting\n",
        "L2.sort()\n",
        "L2"
      ],
      "execution_count": 0,
      "outputs": [
        {
          "output_type": "execute_result",
          "data": {
            "text/plain": [
              "[2, 5, 7, 9, 33]"
            ]
          },
          "metadata": {
            "tags": []
          },
          "execution_count": 24
        }
      ]
    },
    {
      "cell_type": "code",
      "metadata": {
        "id": "utkkwNNLH36c",
        "colab_type": "code",
        "outputId": "028561ec-e0aa-4952-f8bd-324e4a04fff4",
        "colab": {
          "base_uri": "https://localhost:8080/",
          "height": 34
        }
      },
      "source": [
        "L2.reverse()\n",
        "L2"
      ],
      "execution_count": 0,
      "outputs": [
        {
          "output_type": "execute_result",
          "data": {
            "text/plain": [
              "[33, 9, 7, 5, 2]"
            ]
          },
          "metadata": {
            "tags": []
          },
          "execution_count": 26
        }
      ]
    },
    {
      "cell_type": "code",
      "metadata": {
        "id": "iXjiYnBNIFEi",
        "colab_type": "code",
        "outputId": "83309fb0-b57a-4c98-86e4-056ec72aa6d1",
        "colab": {
          "base_uri": "https://localhost:8080/",
          "height": 34
        }
      },
      "source": [
        "#insert at front\n",
        "a = [1,2,3]\n",
        "a.insert(0,100)\n",
        "a"
      ],
      "execution_count": 0,
      "outputs": [
        {
          "output_type": "execute_result",
          "data": {
            "text/plain": [
              "[100, 1, 2, 3]"
            ]
          },
          "metadata": {
            "tags": []
          },
          "execution_count": 29
        }
      ]
    },
    {
      "cell_type": "code",
      "metadata": {
        "id": "p4MtFdZ3JOrU",
        "colab_type": "code",
        "outputId": "31e059e9-abe3-4f14-d360-b9e061501708",
        "colab": {
          "base_uri": "https://localhost:8080/",
          "height": 34
        }
      },
      "source": [
        "  #you can also sort char\n",
        "  listB = ['x', 'z', 't', 'q']\n",
        "  listB.sort()\n",
        "  listB"
      ],
      "execution_count": 0,
      "outputs": [
        {
          "output_type": "execute_result",
          "data": {
            "text/plain": [
              "['q', 't', 'x', 'z']"
            ]
          },
          "metadata": {
            "tags": []
          },
          "execution_count": 31
        }
      ]
    },
    {
      "cell_type": "markdown",
      "metadata": {
        "id": "W6eCzh1z_NJb",
        "colab_type": "text"
      },
      "source": [
        "<br>\n"
      ]
    },
    {
      "cell_type": "markdown",
      "metadata": {
        "id": "o7kpoRLF_RzL",
        "colab_type": "text"
      },
      "source": [
        "# Mutation, cloning and aliasing"
      ]
    },
    {
      "cell_type": "markdown",
      "metadata": {
        "id": "s5V7Uttj_fmW",
        "colab_type": "text"
      },
      "source": [
        "Python aliasing will create the same link to the same object. \n",
        "\n",
        "So mutation the alias will mutate the orignal object."
      ]
    },
    {
      "cell_type": "code",
      "metadata": {
        "id": "ARj3EH9-_MYI",
        "colab_type": "code",
        "outputId": "48f0dc25-9938-4e7c-cc77-160e9f0e0ed4",
        "colab": {
          "base_uri": "https://localhost:8080/",
          "height": 34
        }
      },
      "source": [
        "numbers1 = [1,2,3,4]\n",
        "numbers2 = numbers1\n",
        "numbers2"
      ],
      "execution_count": 0,
      "outputs": [
        {
          "output_type": "execute_result",
          "data": {
            "text/plain": [
              "[1, 2, 3, 4]"
            ]
          },
          "metadata": {
            "tags": []
          },
          "execution_count": 1
        }
      ]
    },
    {
      "cell_type": "markdown",
      "metadata": {
        "id": "SEPCR46VJyNy",
        "colab_type": "text"
      },
      "source": [
        "If you do not want to mutate numbers1 by mutating numbers2, \n",
        "you need to create a copy"
      ]
    },
    {
      "cell_type": "code",
      "metadata": {
        "id": "ZcG7c4kLJv6Y",
        "colab_type": "code",
        "outputId": "6be35550-19a7-4a26-f98c-5d1353a7a141",
        "colab": {
          "base_uri": "https://localhost:8080/",
          "height": 52
        }
      },
      "source": [
        "numbers3 = numbers1[:]\n",
        "numbers3.append(3)\n",
        "print(numbers3)\n",
        "print(numbers1)"
      ],
      "execution_count": 0,
      "outputs": [
        {
          "output_type": "stream",
          "text": [
            "[1, 2, 3, 4, 3]\n",
            "[1, 2, 3, 4]\n"
          ],
          "name": "stdout"
        }
      ]
    },
    {
      "cell_type": "markdown",
      "metadata": {
        "id": "fZXCuZyrTfX9",
        "colab_type": "text"
      },
      "source": [
        "Sometimes you want to clone the list and modify"
      ]
    },
    {
      "cell_type": "code",
      "metadata": {
        "id": "-SDGzmwXKJeo",
        "colab_type": "code",
        "outputId": "97b07b97-a10c-42c5-eb3d-278b0ebfc083",
        "colab": {
          "base_uri": "https://localhost:8080/",
          "height": 34
        }
      },
      "source": [
        "numbers1 = [1,2,3,4]\n",
        "numbers1copy = numbers1[:]\n",
        "numbers1copy.append(6)\n",
        "numbers1"
      ],
      "execution_count": 0,
      "outputs": [
        {
          "output_type": "execute_result",
          "data": {
            "text/plain": [
              "[1, 2, 3, 4]"
            ]
          },
          "metadata": {
            "tags": []
          },
          "execution_count": 1
        }
      ]
    },
    {
      "cell_type": "code",
      "metadata": {
        "id": "R59wwBWTTxze",
        "colab_type": "code",
        "outputId": "370c8307-6268-44b9-8218-c7253dc06db8",
        "colab": {
          "base_uri": "https://localhost:8080/",
          "height": 34
        }
      },
      "source": [
        ">>> aList = [0, 1, 2, 3, 4, 5]\n",
        ">>> bList = aList\n",
        ">>> aList[2] = 'hello'\n",
        ">>> aList == bList"
      ],
      "execution_count": 0,
      "outputs": [
        {
          "output_type": "execute_result",
          "data": {
            "text/plain": [
              "True"
            ]
          },
          "metadata": {
            "tags": []
          },
          "execution_count": 2
        }
      ]
    },
    {
      "cell_type": "code",
      "metadata": {
        "id": "5zlGFsb7UY6o",
        "colab_type": "code",
        "outputId": "9f71fa98-a330-47d3-85d5-3af6f8aab31f",
        "colab": {
          "base_uri": "https://localhost:8080/",
          "height": 34
        }
      },
      "source": [
        "aList is bList"
      ],
      "execution_count": 0,
      "outputs": [
        {
          "output_type": "execute_result",
          "data": {
            "text/plain": [
              "True"
            ]
          },
          "metadata": {
            "tags": []
          },
          "execution_count": 3
        }
      ]
    },
    {
      "cell_type": "code",
      "metadata": {
        "id": "AL7vv7LxUblU",
        "colab_type": "code",
        "outputId": "0690c664-5d27-4732-d9e2-64f8bc0b1da6",
        "colab": {
          "base_uri": "https://localhost:8080/",
          "height": 34
        }
      },
      "source": [
        ">>> cList = [6, 5, 4, 3, 2]\n",
        ">>> dList = []\n",
        ">>> for num in cList:\n",
        "        dList.append(num)\n",
        ">>> cList == dList"
      ],
      "execution_count": 0,
      "outputs": [
        {
          "output_type": "execute_result",
          "data": {
            "text/plain": [
              "True"
            ]
          },
          "metadata": {
            "tags": []
          },
          "execution_count": 4
        }
      ]
    },
    {
      "cell_type": "code",
      "metadata": {
        "id": "uBC7mH9FU7Ty",
        "colab_type": "code",
        "outputId": "01eddb5c-d691-4732-c5c1-ab5ce851b094",
        "colab": {
          "base_uri": "https://localhost:8080/",
          "height": 34
        }
      },
      "source": [
        ">>> cList is dList"
      ],
      "execution_count": 0,
      "outputs": [
        {
          "output_type": "execute_result",
          "data": {
            "text/plain": [
              "False"
            ]
          },
          "metadata": {
            "tags": []
          },
          "execution_count": 5
        }
      ]
    },
    {
      "cell_type": "markdown",
      "metadata": {
        "id": "UBRvXqOuVQVc",
        "colab_type": "text"
      },
      "source": [
        "<br>\n"
      ]
    },
    {
      "cell_type": "markdown",
      "metadata": {
        "id": "r_CsZd6eVSCo",
        "colab_type": "text"
      },
      "source": [
        "# Functions as Objects"
      ]
    },
    {
      "cell_type": "markdown",
      "metadata": {
        "id": "-ij3zs8lVWr_",
        "colab_type": "text"
      },
      "source": [
        "We need to understand that functions are essentially **first class objects**. \n",
        "\n",
        "They can be used where you would expect numbers, strings etc. \n",
        "\n",
        "They can thus be used in assignments and lists as well"
      ]
    },
    {
      "cell_type": "code",
      "metadata": {
        "id": "i8CZwsQjU8rw",
        "colab_type": "code",
        "outputId": "5464a249-0432-407c-8621-d696fcb15a86",
        "colab": {
          "base_uri": "https://localhost:8080/",
          "height": 34
        }
      },
      "source": [
        "#example:\n",
        "def applyToEach(L,F):\n",
        "  # L is list, F is function\n",
        "  for e in range(len(L)):\n",
        "    L[e] = F(L[e])\n",
        "  return L\n",
        "\n",
        "print(applyToEach([1,2,3,-3],abs))"
      ],
      "execution_count": 4,
      "outputs": [
        {
          "output_type": "stream",
          "text": [
            "[1, 2, 3, 3]\n"
          ],
          "name": "stdout"
        }
      ]
    },
    {
      "cell_type": "markdown",
      "metadata": {
        "id": "RS55OuvgUcT2",
        "colab_type": "text"
      },
      "source": [
        "Python is very nice to create a general purpose Higher Order Procedure(HOP) know as **map**\n",
        "\n",
        "It does the above code without needing us to define our applyToEach function."
      ]
    },
    {
      "cell_type": "code",
      "metadata": {
        "id": "3K0niSHlWcdE",
        "colab_type": "code",
        "colab": {
          "base_uri": "https://localhost:8080/",
          "height": 34
        },
        "outputId": "ed868fa8-7be3-4549-de37-cd179772b37f"
      },
      "source": [
        "newList = list(map(abs,[1,-2,3,-4]))\n",
        "newList"
      ],
      "execution_count": 9,
      "outputs": [
        {
          "output_type": "execute_result",
          "data": {
            "text/plain": [
              "[1, 2, 3, 4]"
            ]
          },
          "metadata": {
            "tags": []
          },
          "execution_count": 9
        }
      ]
    },
    {
      "cell_type": "code",
      "metadata": {
        "id": "n_W9OW3eUzaV",
        "colab_type": "code",
        "colab": {}
      },
      "source": [
        "def applyEachTo(L, x):\n",
        "    result = []\n",
        "    for i in range(len(L)):\n",
        "        result.append(L[i](x))\n",
        "    return result"
      ],
      "execution_count": 0,
      "outputs": []
    },
    {
      "cell_type": "code",
      "metadata": {
        "id": "NAG2JrugZFrt",
        "colab_type": "code",
        "colab": {}
      },
      "source": [
        "def square(a):\n",
        "    return a*a\n",
        "\n",
        "def halve(a):\n",
        "    return a/2\n",
        "\n",
        "def inc(a):\n",
        "    return a+1"
      ],
      "execution_count": 0,
      "outputs": []
    },
    {
      "cell_type": "code",
      "metadata": {
        "id": "cRuqwyEZZHQD",
        "colab_type": "code",
        "colab": {
          "base_uri": "https://localhost:8080/",
          "height": 34
        },
        "outputId": "597abf21-6986-4094-bf1e-dd24e4220bc8"
      },
      "source": [
        "applyEachTo([inc, square, halve, abs], -3)"
      ],
      "execution_count": 12,
      "outputs": [
        {
          "output_type": "execute_result",
          "data": {
            "text/plain": [
              "[-2, 9, -1.5, 3]"
            ]
          },
          "metadata": {
            "tags": []
          },
          "execution_count": 12
        }
      ]
    },
    {
      "cell_type": "code",
      "metadata": {
        "id": "WjIzg4v8a5Ga",
        "colab_type": "code",
        "colab": {
          "base_uri": "https://localhost:8080/",
          "height": 34
        },
        "outputId": "d40c60b3-d66c-4bbf-f536-b0512864efd9"
      },
      "source": [
        "applyEachTo([inc, square, halve, abs], 3.0)"
      ],
      "execution_count": 15,
      "outputs": [
        {
          "output_type": "execute_result",
          "data": {
            "text/plain": [
              "[4.0, 9.0, 1.5, 3.0]"
            ]
          },
          "metadata": {
            "tags": []
          },
          "execution_count": 15
        }
      ]
    }
  ]
}
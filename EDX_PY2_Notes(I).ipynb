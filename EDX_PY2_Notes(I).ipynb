{
  "nbformat": 4,
  "nbformat_minor": 0,
  "metadata": {
    "colab": {
      "name": "EDX_PY2_Notes(I).ipynb",
      "version": "0.3.2",
      "provenance": [],
      "include_colab_link": true
    },
    "kernelspec": {
      "name": "python3",
      "display_name": "Python 3"
    }
  },
  "cells": [
    {
      "cell_type": "markdown",
      "metadata": {
        "id": "view-in-github",
        "colab_type": "text"
      },
      "source": [
        "<a href=\"https://colab.research.google.com/github/mightnent/learn_python/blob/MITx-6.00.1x/EDX_PY2_Notes(I).ipynb\" target=\"_parent\"><img src=\"https://colab.research.google.com/assets/colab-badge.svg\" alt=\"Open In Colab\"/></a>"
      ]
    },
    {
      "cell_type": "markdown",
      "metadata": {
        "id": "FGAQLAQf24cq",
        "colab_type": "text"
      },
      "source": [
        "**Approximation with loops**\n",
        "\n",
        "The ability to approximate is one of the greatest adv of computers. "
      ]
    },
    {
      "cell_type": "code",
      "metadata": {
        "id": "_fM3KVk_2h6e",
        "colab_type": "code",
        "outputId": "f9cb862d-4f6e-4648-d6d3-29665382de40",
        "colab": {
          "base_uri": "https://localhost:8080/",
          "height": 52
        }
      },
      "source": [
        "cube = 27\n",
        "eps = 0.01\n",
        "increment = 0.001\n",
        "guess = 0.0\n",
        "num_guess = 0\n",
        "\n",
        "if cube == 1:\n",
        "  print(1)\n",
        "  \n",
        "else:\n",
        "\n",
        "  while abs(guess**3 - cube) >= eps and guess <= cube/2:\n",
        "    guess += increment\n",
        "    num_guess +=1\n",
        "  print(str(guess) + ' is close enough')\n",
        "  print(num_guess)"
      ],
      "execution_count": 0,
      "outputs": [
        {
          "output_type": "stream",
          "text": [
            "2.9999999999997806 is close enough\n",
            "3000\n"
          ],
          "name": "stdout"
        }
      ]
    },
    {
      "cell_type": "markdown",
      "metadata": {
        "id": "2M24BulB9zeA",
        "colab_type": "text"
      },
      "source": [
        "**Bisection Search**\n",
        "\n",
        "Algorithm for searching. A better way than randomly guessing\n",
        "\n",
        "\n",
        "![Visualization](https://study.com/cimages/multimages/16/b4b06f8c-a179-4a44-95bb-3f691e1c717f_example.png)"
      ]
    },
    {
      "cell_type": "code",
      "metadata": {
        "id": "MC6p3Dwy372T",
        "colab_type": "code",
        "colab": {
          "base_uri": "https://localhost:8080/",
          "height": 34
        },
        "outputId": "c10a12f1-0f1c-4b3a-963b-3976388e9185"
      },
      "source": [
        "#implementation in code for finding square roots\n",
        "\n",
        "x = 25.0\n",
        "low = 0.0\n",
        "high = x\n",
        "ans = (high+low)/2.0\n",
        "eps = 0.001\n",
        "\n",
        "while abs(ans**2-x) >= eps:\n",
        "  if ans**2 < x:\n",
        "    low = ans\n",
        "  else:\n",
        "    high = ans\n",
        "  ans = (high+low)/2.0\n",
        "  \n",
        "print(ans)"
      ],
      "execution_count": 14,
      "outputs": [
        {
          "output_type": "stream",
          "text": [
            "4.9999237060546875\n"
          ],
          "name": "stdout"
        }
      ]
    },
    {
      "cell_type": "markdown",
      "metadata": {
        "id": "_vwP7W9jX3aV",
        "colab_type": "text"
      },
      "source": [
        "**Time**\n",
        "\n",
        "The above bisection search algo will converge in log2(N) time, unlike randomly guessing which takes linear time. \n",
        "\n",
        "Why base 2? its just to cancel out when you have log2(2)=1. Easier to say. But basically it's just logarithmic time. \n",
        "\n",
        "**NOTE**\n",
        "\n",
        "This kind of algo will only work for strictly increasing/decreasing continuous functions."
      ]
    },
    {
      "cell_type": "code",
      "metadata": {
        "id": "Es4krxZzVmY7",
        "colab_type": "code",
        "colab": {}
      },
      "source": [
        "#bisection search guessing secret number\n",
        "\n",
        "high = 100\n",
        "low = 0\n",
        "guess = int((high+low)/2)\n",
        "\n",
        "print(\"Is your secret number \" + str(guess)+\" ?\")\n",
        "ans = input(\"Enter 'h' to indicate the guess is too high. Enter 'l' to indicate the guess is too low. Enter 'c' to indicate I guessed correctly.\")\n",
        "\n",
        "while ans != \"c\":\n",
        "    if ans == \"l\":\n",
        "        low = guess\n",
        "\n",
        "    elif ans == \"h\":\n",
        "        high = guess\n",
        "        \n",
        "    else:\n",
        "        print(\"Sorry, I did not understand your input.\")\n",
        "        \n",
        "    guess = int((high+low)/2)\n",
        "    print(\"Is your secret number \" + str(guess)+\" ?\")\n",
        "    ans = input(\"Enter 'h' to indicate the guess is too high. Enter 'l' to indicate the guess is too low. Enter 'c' to indicate I guessed correctly.\")\n",
        "\n",
        "if ans == \"c\":\n",
        "    print(\"Game over. Your secret number was: \" + str(guess))"
      ],
      "execution_count": 0,
      "outputs": []
    },
    {
      "cell_type": "markdown",
      "metadata": {
        "id": "tIheptnehsCw",
        "colab_type": "text"
      },
      "source": [
        "**How computer stores number**\n",
        "\n",
        "Computers only store numbers in binary. Below is the code for decimal to binary system"
      ]
    },
    {
      "cell_type": "code",
      "metadata": {
        "id": "DoYm7_gJciJ0",
        "colab_type": "code",
        "colab": {
          "base_uri": "https://localhost:8080/",
          "height": 34
        },
        "outputId": "8a1fedaf-f817-4222-ea5b-7d560ec80229"
      },
      "source": [
        "num = 11\n",
        "\n",
        "if num<0:\n",
        "  isNeg = True\n",
        "  num = abs(num)\n",
        "else:\n",
        "  isNeg = False\n",
        "result = ''\n",
        "if num == 0:\n",
        "  result = '0'\n",
        "while num > 0:\n",
        "  result = str(num%2) + result\n",
        "  num = num//2\n",
        "if isNeg:\n",
        "  result = '-'+result\n",
        "\n",
        "print(result)"
      ],
      "execution_count": 45,
      "outputs": [
        {
          "output_type": "stream",
          "text": [
            "1011\n"
          ],
          "name": "stdout"
        }
      ]
    },
    {
      "cell_type": "markdown",
      "metadata": {
        "id": "1oxrwjyW4nd6",
        "colab_type": "text"
      },
      "source": [
        "**Converting floating points to binary**\n",
        "\n",
        "It's a little tricky. \n",
        "\n",
        "You multiply that number(dec) by 2**p such that it gives a number that can be represented in binary. Then you divide that binary by 2**p, which is basically shifting the binary point forward by p.\n",
        "\n",
        "*eg* 0.375 * 2**3 = 3\n",
        "\n",
        "3 => 11\n",
        "\n",
        "therefore 0.375 => 0.011"
      ]
    },
    {
      "cell_type": "code",
      "metadata": {
        "id": "mMNQv8LA2xP5",
        "colab_type": "code",
        "colab": {
          "base_uri": "https://localhost:8080/",
          "height": 52
        },
        "outputId": "def82399-c9c0-4639-fb5b-65a1091e155c"
      },
      "source": [
        "#code for the above\n",
        "x = .1\n",
        "p=0\n",
        "while ((2**p)*x)%1 != 0:\n",
        "  p+=1\n",
        "num = int((2**p)*x)\n",
        "\n",
        "result = ''\n",
        "if num == 0:\n",
        "  result = '0'\n",
        "while num > 0:\n",
        "  result = str(num%2) + result\n",
        "  num = num//2\n",
        "print(len(result))\n",
        "for i in range(p-len(result)):\n",
        "  result = \"0\"+result\n",
        "\n",
        "result = result[0:-p]+\".\"+result[-p:]\n",
        "print(result)"
      ],
      "execution_count": 46,
      "outputs": [
        {
          "output_type": "stream",
          "text": [
            "52\n",
            ".0001100110011001100110011001100110011001100110011001101\n"
          ],
          "name": "stdout"
        }
      ]
    },
    {
      "cell_type": "markdown",
      "metadata": {
        "id": "pXsUW2AJADvR",
        "colab_type": "text"
      },
      "source": [
        "*Side note on python slicing*\n",
        "\n",
        "Imagine every element in the list has a pointer.\n",
        "so 0 maps to the first and -1 maps to the last. \n",
        "so result[0:-1] is to say all element except the last. Code shown below"
      ]
    },
    {
      "cell_type": "code",
      "metadata": {
        "id": "2TqMGxyZ-U_g",
        "colab_type": "code",
        "colab": {
          "base_uri": "https://localhost:8080/",
          "height": 34
        },
        "outputId": "bea766df-b0f9-470b-b76d-dd9155886c1b"
      },
      "source": [
        "x=[1,2,3,4,5,6,7,8]\n",
        "x[-1]"
      ],
      "execution_count": 44,
      "outputs": [
        {
          "output_type": "execute_result",
          "data": {
            "text/plain": [
              "8"
            ]
          },
          "metadata": {
            "tags": []
          },
          "execution_count": 44
        }
      ]
    },
    {
      "cell_type": "markdown",
      "metadata": {
        "id": "4lYOmSfxAyRq",
        "colab_type": "text"
      },
      "source": [
        "**Implications of our floating point conversion**\n",
        "\n",
        "\n",
        "*   If no int p exist such that x*(2**p) is whole number, the computer can only estimate\n",
        "*   do not do x==y if x and y are float. Instead, use abs(x-y) < eps\n",
        "\n",
        "\n"
      ]
    },
    {
      "cell_type": "markdown",
      "metadata": {
        "id": "IWOwWKGyFtpl",
        "colab_type": "text"
      },
      "source": [
        "**Code implementation of Newton's method of Approximation**\n",
        "\n",
        "The newton-raphson method is very fast. For mathematic details, refer to MIT math 18.01"
      ]
    },
    {
      "cell_type": "code",
      "metadata": {
        "id": "gG6lbJ58-87X",
        "colab_type": "code",
        "colab": {
          "base_uri": "https://localhost:8080/",
          "height": 52
        },
        "outputId": "ebeed457-de44-430d-916b-cfbb6491b8dc"
      },
      "source": [
        "#f(x) = x^2 + k\n",
        "eps = 0.01\n",
        "y = 24\n",
        "guess = 24.0/2\n",
        "num_guess = 0\n",
        "\n",
        "while (abs(guess**2-y)) >= eps:\n",
        "  num_guess +=1\n",
        "  guess = guess - ((guess**2-y)/(2*guess))\n",
        "  \n",
        "print(num_guess)\n",
        "print(guess)"
      ],
      "execution_count": 49,
      "outputs": [
        {
          "output_type": "stream",
          "text": [
            "4\n",
            "4.8989887432139305\n"
          ],
          "name": "stdout"
        }
      ]
    },
    {
      "cell_type": "code",
      "metadata": {
        "id": "79dRcIrkIfAS",
        "colab_type": "code",
        "colab": {}
      },
      "source": [
        ""
      ],
      "execution_count": 0,
      "outputs": []
    }
  ]
}
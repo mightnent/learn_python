{
  "nbformat": 4,
  "nbformat_minor": 0,
  "metadata": {
    "colab": {
      "name": "EDX_PY5_Notes(II).ipynb",
      "provenance": [],
      "collapsed_sections": [],
      "include_colab_link": true
    },
    "kernelspec": {
      "name": "python3",
      "display_name": "Python 3"
    }
  },
  "cells": [
    {
      "cell_type": "markdown",
      "metadata": {
        "id": "view-in-github",
        "colab_type": "text"
      },
      "source": [
        "<a href=\"https://colab.research.google.com/github/mightnent/learn_python/blob/master/EDX_PY5_Notes(II).ipynb\" target=\"_parent\"><img src=\"https://colab.research.google.com/assets/colab-badge.svg\" alt=\"Open In Colab\"/></a>"
      ]
    },
    {
      "cell_type": "markdown",
      "metadata": {
        "id": "4JUmuo68twy0",
        "colab_type": "text"
      },
      "source": [
        "# OOP Continued"
      ]
    },
    {
      "cell_type": "code",
      "metadata": {
        "id": "_UGLePt5tsjL",
        "colab_type": "code",
        "colab": {}
      },
      "source": [
        "#another example\n",
        "class Animals(object):\n",
        "  #object is actually a class parent\n",
        "  def __init__(self,age):\n",
        "    self.age = age\n",
        "    #you can bind data attributes even if you pass it in\n",
        "    self.name = None\n",
        "  #getters\n",
        "  def get_age(self):\n",
        "    return self.age\n",
        "  def get_name(self):\n",
        "    return self.name\n",
        "  #setters\n",
        "  def set_age(self,newAge):\n",
        "    self.age = newAge\n",
        "  def set_name(self,newName=''):\n",
        "    self.name = newName\n",
        "  def __str__(self):\n",
        "    return \"Name: \" + str(self.name) + \"\\n\"+ \"Age: \"+ str(self.age)\n",
        "    "
      ],
      "execution_count": 0,
      "outputs": []
    },
    {
      "cell_type": "code",
      "metadata": {
        "id": "P5LiYExDvqgP",
        "colab_type": "code",
        "colab": {
          "base_uri": "https://localhost:8080/",
          "height": 52
        },
        "outputId": "7bdc40dc-0c15-4ed4-dfdb-2c4e844e9f97"
      },
      "source": [
        "myDog = Animals(3)\n",
        "myDog.set_name(\"labby\")\n",
        "print(myDog)"
      ],
      "execution_count": 7,
      "outputs": [
        {
          "output_type": "stream",
          "text": [
            "Name: labby\n",
            "Age: 3\n"
          ],
          "name": "stdout"
        }
      ]
    },
    {
      "cell_type": "code",
      "metadata": {
        "id": "feu3ii-9wEpj",
        "colab_type": "code",
        "colab": {}
      },
      "source": [
        "class Dog(Animals):\n",
        "  def speak(self):\n",
        "    print(\"woof\")\n",
        "  def __str__(self):\n",
        "    return \"Dog \\n\" + \"Name: \" + str(self.name) + \"\\n\"+ \"Age: \"+ str(self.age)"
      ],
      "execution_count": 0,
      "outputs": []
    },
    {
      "cell_type": "code",
      "metadata": {
        "id": "zPvci-pDxFUa",
        "colab_type": "code",
        "colab": {}
      },
      "source": [
        "newDog = Dog(3)"
      ],
      "execution_count": 0,
      "outputs": []
    },
    {
      "cell_type": "code",
      "metadata": {
        "id": "SW6W5Nv1xjSY",
        "colab_type": "code",
        "colab": {}
      },
      "source": [
        "newDog.set_name(\"goldy\")"
      ],
      "execution_count": 0,
      "outputs": []
    },
    {
      "cell_type": "code",
      "metadata": {
        "id": "4YA8hy2exXcQ",
        "colab_type": "code",
        "colab": {
          "base_uri": "https://localhost:8080/",
          "height": 69
        },
        "outputId": "961e2a46-c44d-4e3b-ed7d-426b0286fad6"
      },
      "source": [
        "print(newDog)"
      ],
      "execution_count": 15,
      "outputs": [
        {
          "output_type": "stream",
          "text": [
            "Dog \n",
            "Name: goldy\n",
            "Age: 3\n"
          ],
          "name": "stdout"
        }
      ]
    },
    {
      "cell_type": "code",
      "metadata": {
        "id": "mmucNOsNxZCp",
        "colab_type": "code",
        "colab": {
          "base_uri": "https://localhost:8080/",
          "height": 34
        },
        "outputId": "e34fc3a7-e6b6-4964-c309-e1fd9e6b692e"
      },
      "source": [
        "newDog.speak()"
      ],
      "execution_count": 16,
      "outputs": [
        {
          "output_type": "stream",
          "text": [
            "woof\n"
          ],
          "name": "stdout"
        }
      ]
    },
    {
      "cell_type": "markdown",
      "metadata": {
        "id": "SeUymT3UyAP3",
        "colab_type": "text"
      },
      "source": [
        "Methods in subclasses can be the same as superclass or other subclass"
      ]
    },
    {
      "cell_type": "code",
      "metadata": {
        "id": "VKDyqznKxplx",
        "colab_type": "code",
        "colab": {}
      },
      "source": [
        "#now a practice for human\n",
        "class Human(Animals):\n",
        "  def __init__(self,age,name):\n",
        "    Animals.__init__(self,age)\n",
        "    Animals.set_name(self,name)\n",
        "    self.friends = []\n",
        "  def get_friend(self):\n",
        "    return self.friends\n",
        "  def set_friend(self,newFriend):\n",
        "    self.friends.append(newFriend)\n",
        "    print(self.friends)\n",
        "  def speak(self):\n",
        "    return \"hello\"\n",
        "  def age_diff(self,other):\n",
        "    diff = self.age - other.age\n",
        "    if self.age>other.age:\n",
        "      print(diff,\" older\")\n",
        "    else:\n",
        "      print(diff,\" younger\")\n",
        "  def __str__(self):\n",
        "    return str(self.name) +\" is \"+str(self.age)+\" years old\""
      ],
      "execution_count": 0,
      "outputs": []
    },
    {
      "cell_type": "code",
      "metadata": {
        "id": "0aQYe7UL0IAW",
        "colab_type": "code",
        "colab": {}
      },
      "source": [
        "mike = Human(22,'mike')"
      ],
      "execution_count": 0,
      "outputs": []
    },
    {
      "cell_type": "code",
      "metadata": {
        "id": "lWmew8gB0QkX",
        "colab_type": "code",
        "colab": {
          "base_uri": "https://localhost:8080/",
          "height": 34
        },
        "outputId": "10b65dd2-cbe5-484c-a104-4a42509a4ae2"
      },
      "source": [
        "mike.set_friend('wl')"
      ],
      "execution_count": 68,
      "outputs": [
        {
          "output_type": "stream",
          "text": [
            "['wl']\n"
          ],
          "name": "stdout"
        }
      ]
    },
    {
      "cell_type": "code",
      "metadata": {
        "id": "4YBhCzc20W_l",
        "colab_type": "code",
        "colab": {
          "base_uri": "https://localhost:8080/",
          "height": 34
        },
        "outputId": "f4a45fa4-6d1e-49a2-c2d5-c53f682f2cc9"
      },
      "source": [
        "print(mike)"
      ],
      "execution_count": 69,
      "outputs": [
        {
          "output_type": "stream",
          "text": [
            "mike is 22 years old\n"
          ],
          "name": "stdout"
        }
      ]
    },
    {
      "cell_type": "code",
      "metadata": {
        "id": "6BfcvALi0c0f",
        "colab_type": "code",
        "colab": {
          "base_uri": "https://localhost:8080/",
          "height": 34
        },
        "outputId": "2856b7cc-0fa0-46a1-b3d3-82c4f5322085"
      },
      "source": [
        "mike.get_friend()"
      ],
      "execution_count": 70,
      "outputs": [
        {
          "output_type": "execute_result",
          "data": {
            "text/plain": [
              "['wl']"
            ]
          },
          "metadata": {
            "tags": []
          },
          "execution_count": 70
        }
      ]
    },
    {
      "cell_type": "code",
      "metadata": {
        "id": "bXiBwzEm0k9s",
        "colab_type": "code",
        "colab": {
          "base_uri": "https://localhost:8080/",
          "height": 52
        },
        "outputId": "ccc733ea-e756-4439-f33e-4e703ecee446"
      },
      "source": [
        "class Spell(object):\n",
        "    def __init__(self, incantation, name):\n",
        "        self.name = name\n",
        "        self.incantation = incantation\n",
        "\n",
        "    def __str__(self):\n",
        "        return self.name + ' ' + self.incantation + '\\n' + self.getDescription()\n",
        "              \n",
        "    def getDescription(self):\n",
        "        return 'No description'\n",
        "    \n",
        "    def execute(self):\n",
        "        print(self.incantation)\n",
        "\n",
        "\n",
        "class Accio(Spell):\n",
        "    def __init__(self):\n",
        "        Spell.__init__(self, 'Accio', 'Summoning Charm')\n",
        "    def getDescription(self):\n",
        "        return \"This charm summons an object to the caster, potentially over a significant distance.\"\n",
        "\n",
        "class Confundo(Spell):\n",
        "    def __init__(self):\n",
        "        Spell.__init__(self, 'Confundo', 'Confundus Charm')\n",
        "\n",
        "    def getDescription(self):\n",
        "        return 'Causes the victim to become confused and befuddled.'\n",
        "\n",
        "def studySpell(spell):\n",
        "    print(spell)\n",
        "\n",
        "print(Accio())"
      ],
      "execution_count": 83,
      "outputs": [
        {
          "output_type": "stream",
          "text": [
            "Summoning Charm Accio\n",
            "This charm summons an object to the caster, potentially over a significant distance.\n"
          ],
          "name": "stdout"
        }
      ]
    },
    {
      "cell_type": "code",
      "metadata": {
        "id": "vaLJ4bSo8CE3",
        "colab_type": "code",
        "colab": {}
      },
      "source": [
        "#exercise\n",
        "class A(object):\n",
        "    def __init__(self):\n",
        "        self.a = 1\n",
        "    def x(self):\n",
        "        print(\"A.x\")\n",
        "    def y(self):\n",
        "        print(\"A.y\")\n",
        "    def z(self):\n",
        "        print(\"A.z\")\n",
        "\n",
        "class B(A):\n",
        "    def __init__(self):\n",
        "        A.__init__(self)\n",
        "        self.a = 2\n",
        "        self.b = 3\n",
        "    def y(self):\n",
        "        print(\"B.y\")\n",
        "    def z(self):\n",
        "        print(\"B.z\")\n",
        "\n",
        "class C(object):\n",
        "    def __init__(self):\n",
        "        self.a = 4\n",
        "        self.c = 5\n",
        "    def y(self):\n",
        "        print(\"C.y\")\n",
        "    def z(self):\n",
        "        print(\"C.z\")\n",
        "\n",
        "class D(C, B):\n",
        "    def __init__(self):\n",
        "        C.__init__(self)\n",
        "        B.__init__(self)\n",
        "        self.d = 6\n",
        "    def z(self):\n",
        "        print(\"D.z\")"
      ],
      "execution_count": 0,
      "outputs": []
    },
    {
      "cell_type": "markdown",
      "metadata": {
        "id": "FqnGp47hAR11",
        "colab_type": "text"
      },
      "source": [
        "When resolving a reference to an attribute of an object that's an instance of class D, Python first searches the object's instance variables then uses a simple left-to-right, depth first search through the class hierarchy. In this case that would mean searching the class C, followed the class B and its superclasses (ie, class A, and then any superclasses it may have, et cetera)."
      ]
    },
    {
      "cell_type": "code",
      "metadata": {
        "id": "2WWXnpZFARW7",
        "colab_type": "code",
        "colab": {
          "base_uri": "https://localhost:8080/",
          "height": 34
        },
        "outputId": "b4b248fb-ef2b-4ffa-9d07-572c381b3d6c"
      },
      "source": [
        "obj = D()\n",
        "print(obj.a)"
      ],
      "execution_count": 86,
      "outputs": [
        {
          "output_type": "stream",
          "text": [
            "2\n"
          ],
          "name": "stdout"
        }
      ]
    },
    {
      "cell_type": "markdown",
      "metadata": {
        "id": "vMC6lrGHAaaM",
        "colab_type": "text"
      },
      "source": [
        "Above because B.init will override"
      ]
    },
    {
      "cell_type": "markdown",
      "metadata": {
        "id": "QXv4YtDLBO2l",
        "colab_type": "text"
      },
      "source": [
        "<br>"
      ]
    },
    {
      "cell_type": "markdown",
      "metadata": {
        "id": "OYVsPjnFBP-I",
        "colab_type": "text"
      },
      "source": [
        "**Class variables**\n",
        "\n",
        "At the same level as init"
      ]
    },
    {
      "cell_type": "code",
      "metadata": {
        "id": "2q9Wl4UiAVu1",
        "colab_type": "code",
        "colab": {}
      },
      "source": [
        "class Rabbit(Animals):\n",
        "  tag = 1\n",
        "  def __init__(self,age,parent1=None,parent2=None):\n",
        "    Animals.__init__(self,age)\n",
        "    self.parent1 = parent1\n",
        "    self.parent2 = parent2\n",
        "    self.rabbit_tag = Rabbit.tag\n",
        "    Rabbit.tag += 1\n",
        "  def get_parent1(self):\n",
        "    return self.parent1\n",
        "  def get_parent2(self):\n",
        "    return self.parent2\n",
        "  def get_rabbit_tag(self):\n",
        "    #zfill is 001-999\n",
        "    return str(self.rabbit_tag).zfill(3)\n",
        "  def __add__(self,other):\n",
        "    return Rabbit(0,self,other)\n",
        "  def __eq__(self,other):\n",
        "    if self.parent1 == other.parent1 and self.parent2 == other.parent2:\n",
        "      return True\n",
        "    elif self.parent1 == other.parent2 and self.parent2 == other.parent1:\n",
        "      return True\n",
        "    else:\n",
        "      return False\n",
        "  "
      ],
      "execution_count": 0,
      "outputs": []
    },
    {
      "cell_type": "code",
      "metadata": {
        "id": "wmhTunV1CXde",
        "colab_type": "code",
        "colab": {}
      },
      "source": [
        ""
      ],
      "execution_count": 0,
      "outputs": []
    }
  ]
}